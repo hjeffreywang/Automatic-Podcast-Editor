{
 "cells": [
  {
   "cell_type": "markdown",
   "id": "419a0c98",
   "metadata": {},
   "source": [
    "# Part 4: XML creation\n",
    "## Dependencies: OTIO and pandas\n",
    "\n"
   ]
  },
  {
   "cell_type": "code",
   "execution_count": 1,
   "id": "a85b95ea",
   "metadata": {},
   "outputs": [],
   "source": [
    "#audio\n",
    "from __future__ import print_function\n",
    "import numpy as np\n",
    "import matplotlib\n",
    "import matplotlib.pyplot as plt\n",
    "\n",
    "import librosa\n",
    "import librosa.display"
   ]
  },
  {
   "cell_type": "code",
   "execution_count": 2,
   "id": "68910a33",
   "metadata": {},
   "outputs": [],
   "source": [
    "import pandas as pd \n",
    "import pyloudnorm as pyln"
   ]
  },
  {
   "cell_type": "code",
   "execution_count": 3,
   "id": "2ecbceef",
   "metadata": {},
   "outputs": [
    {
     "name": "stderr",
     "output_type": "stream",
     "text": [
      "Failed to establish dbus connection"
     ]
    }
   ],
   "source": [
    "#video\n",
    "import moviepy\n",
    "from moviepy.editor import *\n",
    "import opentimelineio as otio\n",
    "import argparse"
   ]
  },
  {
   "cell_type": "markdown",
   "id": "b0f9bf31",
   "metadata": {},
   "source": [
    "### Quick summary, OTIO can output XML that CAN be used to import timelines. We just need to learn the behavior and then create a loop to automate clipping, using a imported dataframe as a outline."
   ]
  },
  {
   "cell_type": "markdown",
   "id": "5a458949",
   "metadata": {},
   "source": [
    "## Testing opentimelineio\n"
   ]
  },
  {
   "cell_type": "code",
   "execution_count": 4,
   "id": "f1aed986",
   "metadata": {},
   "outputs": [],
   "source": [
    "import opentimelineio as otio\n",
    "import opentimelineio.test_utils as otio_test_utils"
   ]
  },
  {
   "cell_type": "markdown",
   "id": "e5bb2dd9",
   "metadata": {},
   "source": [
    "# Timeline Outline behavior testing\n",
    "- First create a list of videos\n",
    "    - sfs\n",
    "- Sec create list of audio\n",
    "\n",
    "- Link audio to video, IE if mic1 use center camera\n",
    "\n",
    "## Use the lists of camera and audio to createa loops creating timeranges"
   ]
  },
  {
   "cell_type": "code",
   "execution_count": 5,
   "id": "852b3d10",
   "metadata": {},
   "outputs": [],
   "source": [
    "VIDEO_FILEPATH_LIST= [\"Batman Middle.mp4\",\"Batman Right.mp4\",\"Batman Left.mp4\"]\n",
    "\n",
    "# \"Batman Right.mp4\" is 1   ||  \"Batman Left.mp4\" is 2\n",
    "AUDIO_FILEPATH_LIST=[\"Data/Audio/Osi Audio Extracted.wav\", \"Data/Audio/Scott Audio Extracted.wav\", \\\n",
    "               \"Data/Audio/Chukwu Audio Extracted.wav\", \"Data/Audio/Crystal Audio Extracted.wav\"]"
   ]
  },
  {
   "cell_type": "code",
   "execution_count": 6,
   "id": "672b069c",
   "metadata": {},
   "outputs": [],
   "source": [
    "AUDIO_VIDEO_TUPLE_LIST=[(\"Data/Audio/Osi Audio Extracted.wav\", 1), (\"Data/Audio/Scott Audio Extracted.wav\",1), \\\n",
    "               (\"Data/Audio/Chukwu Audio Extracted.wav\",2), (\"Data/Audio/Crystal Audio Extracted.wav\",2)]"
   ]
  },
  {
   "cell_type": "code",
   "execution_count": 7,
   "id": "70f48b1f",
   "metadata": {},
   "outputs": [],
   "source": [
    "\n",
    "# build the structure\n",
    "tl = otio.schema.Timeline(name=\"Example timeline\")\n",
    "\n",
    "# add track for each video file and each audio file\n",
    "#for each file add a track\n",
    "for i in VIDEO_FILEPATH_LIST :\n",
    "    tr = otio.schema.Track(name=i)\n",
    "    tl.tracks.append(tr)\n",
    "\n",
    "for i in AUDIO_VIDEO_TUPLE_LIST:\n",
    "    tr = otio.schema.Track(name=i[0])\n",
    "    tl.tracks.append(tr)"
   ]
  },
  {
   "cell_type": "code",
   "execution_count": 8,
   "id": "7847f564",
   "metadata": {},
   "outputs": [],
   "source": [
    "#testing if the tracks are added\n",
    "#otio.adapters.write_to_file(tl, 'Baretimeline.otio')"
   ]
  },
  {
   "cell_type": "markdown",
   "id": "d41fb9c7",
   "metadata": {},
   "source": [
    "# With the timeline and tracks set, now is the time to match add clips to each of them, Fairly skeleton based"
   ]
  },
  {
   "cell_type": "code",
   "execution_count": 9,
   "id": "15afba15",
   "metadata": {},
   "outputs": [],
   "source": [
    "#import data with the following: \n",
    "#audio idxmax (we will use this to link the audio video tuple list), \n",
    "#the  list of tuples/intervals \n"
   ]
  },
  {
   "cell_type": "markdown",
   "id": "03efb571",
   "metadata": {},
   "source": [
    "# Importing a dataframe pkl, then using using Idxmax to create intervals of data in tuple form. Tuples represent the start and end frame of when mic is dominant. Camera 0 is default cam in case of uncertainty, which is center cam in this scenario.\n",
    "\n",
    "## the audio_video_tuple, idxmax matches the audio index and returns the video [1]"
   ]
  },
  {
   "cell_type": "code",
   "execution_count": 10,
   "id": "f07ad689",
   "metadata": {},
   "outputs": [],
   "source": [
    "data_df=pd.read_pickle('idxmax.pkl')"
   ]
  },
  {
   "cell_type": "code",
   "execution_count": 11,
   "id": "dbf64797",
   "metadata": {},
   "outputs": [],
   "source": [
    "def dataframe_getintervals(series,desiredvalue):\n",
    "    #make sure series is the df['column']\n",
    "    t=series.index[series==desiredvalue].to_series()\n",
    "    interval_list=t.groupby(t.diff().ne(1).cumsum()).agg(['first','last']).apply(tuple,1).tolist()\n",
    "    \n",
    "    return interval_list"
   ]
  },
  {
   "cell_type": "code",
   "execution_count": 12,
   "id": "bcb2df49",
   "metadata": {},
   "outputs": [],
   "source": [
    "#create lists of tuples for each camera\n",
    "\n",
    "list_of_idxmax_mic_data=[]\n",
    "for i in range(len(AUDIO_VIDEO_TUPLE_LIST)+1):\n",
    "    tuple_list=dataframe_getintervals(data_df['idxmax'],i)\n",
    "    list_of_idxmax_mic_data.append(tuple_list)\n",
    "\n",
    "    \n"
   ]
  },
  {
   "cell_type": "code",
   "execution_count": 13,
   "id": "0749a700",
   "metadata": {},
   "outputs": [
    {
     "data": {
      "text/plain": [
       "[[(0, 2499), (651406, 653903)],\n",
       " [(2500, 5407),\n",
       "  (26128, 60419),\n",
       "  (75156, 87230),\n",
       "  (165286, 181913),\n",
       "  (247738, 253717),\n",
       "  (254146, 256274),\n",
       "  (315966, 317251),\n",
       "  (336047, 344445),\n",
       "  (358275, 361633),\n",
       "  (369965, 374352),\n",
       "  (376815, 380256),\n",
       "  (390884, 393382),\n",
       "  (424250, 425515),\n",
       "  (427902, 435067),\n",
       "  (457548, 505325),\n",
       "  (527483, 536514),\n",
       "  (565965, 567731),\n",
       "  (625211, 626028),\n",
       "  (632923, 637252),\n",
       "  (639049, 648955)],\n",
       " [(14939, 21557),\n",
       "  (22121, 24847),\n",
       "  (60420, 75155),\n",
       "  (126906, 128349),\n",
       "  (253718, 254145),\n",
       "  (269021, 270059),\n",
       "  (309370, 311423),\n",
       "  (317252, 320449),\n",
       "  (344446, 352742),\n",
       "  (355574, 358274),\n",
       "  (361634, 363000),\n",
       "  (374353, 376814),\n",
       "  (447659, 455924),\n",
       "  (505326, 510216),\n",
       "  (512779, 518819),\n",
       "  (607771, 625210),\n",
       "  (629249, 632922),\n",
       "  (648956, 649580)],\n",
       " [(5408, 11596),\n",
       "  (21558, 22120),\n",
       "  (24848, 26127),\n",
       "  (123900, 126905),\n",
       "  (128350, 141712),\n",
       "  (143753, 146854),\n",
       "  (185048, 207908),\n",
       "  (226829, 228890),\n",
       "  (256275, 269020),\n",
       "  (270060, 291023),\n",
       "  (294911, 304445),\n",
       "  (314506, 315965),\n",
       "  (353299, 355573),\n",
       "  (363001, 366254),\n",
       "  (380257, 387127),\n",
       "  (389173, 390883),\n",
       "  (393383, 407291),\n",
       "  (510462, 512778),\n",
       "  (536515, 553674),\n",
       "  (592888, 600637),\n",
       "  (604017, 607770),\n",
       "  (649677, 651405)],\n",
       " [(11597, 14938),\n",
       "  (87231, 123899),\n",
       "  (141713, 143752),\n",
       "  (146855, 165285),\n",
       "  (181914, 185047),\n",
       "  (207909, 226828),\n",
       "  (228891, 247737),\n",
       "  (291024, 294910),\n",
       "  (304446, 309369),\n",
       "  (311424, 314505),\n",
       "  (320450, 336046),\n",
       "  (352743, 353298),\n",
       "  (366255, 369964),\n",
       "  (387128, 389172),\n",
       "  (407292, 424249),\n",
       "  (425516, 427901),\n",
       "  (435068, 447658),\n",
       "  (455925, 457547),\n",
       "  (510217, 510461),\n",
       "  (518820, 527482),\n",
       "  (553675, 565964),\n",
       "  (567732, 592887),\n",
       "  (600638, 604016),\n",
       "  (626029, 629248),\n",
       "  (637253, 639048),\n",
       "  (649581, 649676)]]"
      ]
     },
     "execution_count": 13,
     "metadata": {},
     "output_type": "execute_result"
    }
   ],
   "source": [
    "list_of_idxmax_mic_data"
   ]
  },
  {
   "cell_type": "markdown",
   "id": "c166200e",
   "metadata": {},
   "source": [
    "# Variables and their definitions\n",
    "\n",
    "```py \n",
    "list_of_idxmax_mic_data  \n",
    "```\n",
    "- List of lists of tuples defining the (starting frame, ending frame)\n",
    "- Position on the list describes which audio file is used, where 0 is unsure\n",
    "- IE: list_of_idxmax_mic_data[1] is the (starting frame, ending frame) of Audio file 1\n",
    "\n",
    "\n",
    "\n",
    "```py \n",
    "VIDEO_FILEPATH_LIST  \n",
    "```\n",
    "- List of video filepaths. \n",
    "- We will use the list indexes to reference audio video pairs in the next variable\n",
    "\n",
    "```py \n",
    "AUDIO_VIDEO_TUPLE_LIST \n",
    "```\n",
    "- A Tuple of (Audio Filepath, VIDEO_FILEPATH_LIST index of associated audio)\n",
    "- use this to connect a audio to video track"
   ]
  },
  {
   "cell_type": "code",
   "execution_count": 91,
   "id": "55566332",
   "metadata": {},
   "outputs": [],
   "source": [
    "#skeletal outline of otio\n",
    "\n",
    "\n",
    "# build the structure\n",
    "tl = otio.schema.Timeline(name=\"Example timeline\")\n",
    "\n",
    "# add track for each video file and each audio file\n",
    "#for each file add a track\n",
    "\n",
    "#create lists for each track to reference back to later\n",
    "#vtr is video track, etc.\n",
    "vtr_list=[]\n",
    "atr_list=[]\n",
    "\n",
    "\n",
    "for i in VIDEO_FILEPATH_LIST :\n",
    "    vtr = otio.schema.Track(name=i)\n",
    "    tl.tracks.append(vtr)\n",
    "    vtr_list.append(vtr)\n",
    "    \n",
    "for i in AUDIO_VIDEO_TUPLE_LIST:\n",
    "    atr = otio.schema.Track(name=i[0])\n",
    "    tl.tracks.append(atr)\n",
    "    atr_list.append(atr)\n",
    "    \n"
   ]
  },
  {
   "cell_type": "code",
   "execution_count": 92,
   "id": "29006bd3",
   "metadata": {},
   "outputs": [
    {
     "data": {
      "text/plain": [
       "otio.schema.Track(name='Batman Right.mp4', children=[], source_range=None, metadata={})"
      ]
     },
     "execution_count": 92,
     "metadata": {},
     "output_type": "execute_result"
    }
   ],
   "source": [
    "vtr_list[1]"
   ]
  },
  {
   "cell_type": "code",
   "execution_count": 93,
   "id": "c171267c",
   "metadata": {},
   "outputs": [],
   "source": [
    "vrate=24\n",
    "arate=500"
   ]
  },
  {
   "cell_type": "code",
   "execution_count": 90,
   "id": "f1e12861",
   "metadata": {},
   "outputs": [
    {
     "name": "stdout",
     "output_type": "stream",
     "text": [
      "('Data/Audio/Osi Audio Extracted.wav', 1) Batman Right.mp4\n",
      "120.0 259.536\n",
      "1254.144 2900.112\n",
      "3607.4880000000003 4187.04\n",
      "7933.728 8731.824\n",
      "11891.423999999999 12178.416000000001\n",
      "12199.008 12301.152\n",
      "15166.368 15228.047999999999\n",
      "16130.256000000001 16533.36\n",
      "17197.199999999997 17358.384\n",
      "17758.32 17968.896\n",
      "18087.12 18252.288\n",
      "18762.432 18882.336\n",
      "20364.0 20424.72\n",
      "20539.296 20883.216\n",
      "21962.304 24255.6\n",
      "25319.183999999997 25752.672\n",
      "27166.32 27251.088\n",
      "30010.128 30049.344\n",
      "30380.304 30588.095999999998\n",
      "30674.352 31149.840000000004\n",
      "('Data/Audio/Scott Audio Extracted.wav', 1) Batman Right.mp4\n",
      "717.072 1034.7359999999999\n",
      "1061.808 1192.656\n",
      "2900.16 3607.44\n",
      "6091.488 6160.7519999999995\n",
      "12178.464 12198.960000000001\n",
      "12913.008000000002 12962.832000000002\n",
      "14849.76 14948.304\n",
      "15228.096000000001 15381.552\n",
      "16533.408000000003 16931.616\n",
      "17067.552 17197.152000000002\n",
      "17358.432 17424.0\n",
      "17968.944 18087.072\n",
      "21487.631999999998 21884.352\n",
      "24255.648 24490.368000000002\n",
      "24613.392 24903.311999999998\n",
      "29173.007999999998 30010.08\n",
      "30203.952 30380.256\n",
      "31149.888 31179.840000000004\n",
      "('Data/Audio/Chukwu Audio Extracted.wav', 2) Batman Left.mp4\n",
      "259.584 556.608\n",
      "1034.784 1061.76\n",
      "1192.704 1254.096\n",
      "5947.200000000001 6091.4400000000005\n",
      "6160.799999999999 6802.1759999999995\n",
      "6900.143999999999 7048.992\n",
      "8882.304 9979.583999999999\n",
      "10887.792000000001 10986.72\n",
      "12301.199999999999 12912.96\n",
      "12962.880000000001 13969.104000000001\n",
      "14155.728 14613.36\n",
      "15096.287999999999 15166.32\n",
      "16958.352 17067.504\n",
      "17424.048 17580.192000000003\n",
      "18252.336 18582.096\n",
      "18680.304 18762.384\n",
      "18882.384 19549.968\n",
      "24502.176 24613.344\n",
      "25752.72 26576.352\n",
      "28458.624000000003 28830.575999999997\n",
      "28992.816000000003 29172.96\n",
      "31184.496 31267.44\n",
      "('Data/Audio/Crystal Audio Extracted.wav', 2) Batman Left.mp4\n",
      "556.656 717.024\n",
      "4187.088 5947.152\n",
      "6802.224 6900.0960000000005\n",
      "7049.039999999999 7933.68\n",
      "8731.872 8882.256\n",
      "9979.632 10887.744\n",
      "10986.768 11891.376\n",
      "13969.152 14155.68\n",
      "14613.408000000001 14849.712000000001\n",
      "14948.351999999999 15096.24\n",
      "15381.599999999999 16130.207999999999\n",
      "16931.664 16958.304\n",
      "17580.239999999998 17758.272\n",
      "18582.144 18680.256\n",
      "19550.016 20363.952\n",
      "20424.768 20539.248\n",
      "20883.264 21487.584000000003\n",
      "21884.4 21962.256\n",
      "24490.415999999997 24502.128\n",
      "24903.36 25319.136\n",
      "26576.399999999998 27166.272000000004\n",
      "27251.136 28458.575999999997\n",
      "28830.624000000003 28992.767999999996\n",
      "30049.392 30203.904000000002\n",
      "30588.144 30674.304\n",
      "31179.888 31184.448000000004\n"
     ]
    }
   ],
   "source": [
    "# i is to keep track which audio file we are currently on\n",
    "i=-1\n",
    "\n",
    "# i2 is to keep track of how many clips there are\n",
    "i2=0\n",
    "\n",
    "for lists_of_tuples in list_of_idxmax_mic_data:\n",
    "    #connect the list of tuples to the audio file\n",
    "    #ignore 0 for now. We will come back to this later, i will still be -1 but we will add a default clip instead\n",
    "    if i==-1:\n",
    "        pass\n",
    "    \n",
    "    else: \n",
    "        print(AUDIO_VIDEO_TUPLE_LIST[i],VIDEO_FILEPATH_LIST[AUDIO_VIDEO_TUPLE_LIST[i][1]])\n",
    "    \n",
    "        # Connect the audio and video tracks \n",
    "        atrack=atr_list[i]\n",
    "        afname=AUDIO_VIDEO_TUPLE_LIST[i][0]\n",
    "        \n",
    "        # AUDIO_VIDEO_TUPLE_LIST[i][1] references the VIDEO_FILEPATH_LIST to determine which video file to use\n",
    "        vtrack=vtr_list[AUDIO_VIDEO_TUPLE_LIST[i][1]]\n",
    "        vfname=VIDEO_FILEPATH_LIST[AUDIO_VIDEO_TUPLE_LIST[i][1]]\n",
    "        \n",
    "        \n",
    "    #=========================================================================\n",
    "    \n",
    "    #the adding of clips using the list_of_idxmax_mic_data index starts here        \n",
    "        for tuples in lists_of_tuples:\n",
    "            \n",
    "        #=====================================================\n",
    "        \n",
    "            # adding video clips \n",
    "            #convert the tuple ranges from audio rate to video rate\n",
    "            #audio rate=500\n",
    "\n",
    "            vstarttime=tuples[0]/arate*vrate\n",
    "            vduration=tuples[1]/arate*vrate\n",
    "            \n",
    "            print(vstarttime,vduration)\n",
    "        \n",
    "\n",
    "            \n",
    "            i2=i2+1\n",
    "\n",
    "    i=i+1"
   ]
  },
  {
   "cell_type": "code",
   "execution_count": 60,
   "id": "42f30bb5",
   "metadata": {},
   "outputs": [
    {
     "data": {
      "text/plain": [
       "True"
      ]
     },
     "execution_count": 60,
     "metadata": {},
     "output_type": "execute_result"
    }
   ],
   "source": [
    "otio.adapters.write_to_file(tl, 'videoclipsonly.otio')"
   ]
  },
  {
   "cell_type": "code",
   "execution_count": 20,
   "id": "5590afda",
   "metadata": {},
   "outputs": [
    {
     "ename": "NameError",
     "evalue": "name 'vtimerange' is not defined",
     "output_type": "error",
     "traceback": [
      "\u001b[0;31m---------------------------------------------------------------------------\u001b[0m",
      "\u001b[0;31mNameError\u001b[0m                                 Traceback (most recent call last)",
      "\u001b[0;32m/tmp/ipykernel_12092/1628896436.py\u001b[0m in \u001b[0;36m<module>\u001b[0;34m\u001b[0m\n\u001b[0;32m----> 1\u001b[0;31m \u001b[0mvtimerange\u001b[0m\u001b[0;34m\u001b[0m\u001b[0;34m\u001b[0m\u001b[0m\n\u001b[0m",
      "\u001b[0;31mNameError\u001b[0m: name 'vtimerange' is not defined"
     ]
    }
   ],
   "source": [
    "vtimerange"
   ]
  },
  {
   "cell_type": "code",
   "execution_count": 62,
   "id": "6bdd0970",
   "metadata": {},
   "outputs": [
    {
     "data": {
      "text/plain": [
       "otio.opentime.TimeRange(start_time=otio.opentime.RationalTime(value=120, rate=24), duration=otio.opentime.RationalTime(value=139.536, rate=24))"
      ]
     },
     "execution_count": 62,
     "metadata": {},
     "output_type": "execute_result"
    }
   ],
   "source": [
    "vtimerange2"
   ]
  },
  {
   "cell_type": "markdown",
   "id": "06242bb9",
   "metadata": {},
   "source": [
    "# List of starting time of being the dominant speaker and the duration\n",
    "```py\n",
    "('Data/Audio/Osi Audio Extracted.wav', 1)\n",
    "('Data/Audio/Osi Audio Extracted.wav', 1) Batman Right.mp4\n",
    "5.0 5.814\n",
    "52.256 68.582\n",
    "150.312 24.148\n",
    "330.572 33.254\n",
    "495.476 11.958\n",
    "508.292 4.256\n",
    "631.932 2.57\n",
    "672.094 16.796\n",
    "716.55 6.716\n",
    "739.93 8.774\n",
    "753.63 6.882\n",
    "781.768 4.996\n",
    "848.5 2.53\n",
    "855.804 14.33\n",
    "915.096 95.554\n",
    "1054.966 18.062\n",
    "1131.93 3.532\n",
    "1250.422 1.634\n",
    "1265.846 8.658\n",
    "1278.098 19.812\n",
    "('Data/Audio/Scott Audio Extracted.wav', 1) Batman Right.mp4\n",
    "29.878 13.236\n",
    "44.242 5.452\n",
    "120.84 29.47\n",
    "253.812 2.886\n",
    "507.436 0.854\n",
    "538.042 2.076\n",
    "618.74 4.106\n",
    "634.504 6.394\n",
    "688.892 16.592\n",
    "711.148 5.4\n",
    "723.268 2.732\n",
    "748.706 4.922\n",
    "895.318 16.53\n",
    "1010.652 9.78\n",
    "1025.558 12.08\n",
    "1215.542 34.878\n",
    "1258.498 7.346\n",
    "1297.912 1.248\n",
    "('Data/Audio/Chukwu Audio Extracted.wav', 2) Batman Left.mp4\n",
    "10.816 12.376\n",
    "43.116 1.124\n",
    "49.696 2.558\n",
    "247.8 6.01\n",
    "256.7 26.724\n",
    "287.506 6.202\n",
    "370.096 45.72\n",
    "453.658 4.122\n",
    "512.55 25.49\n",
    "540.12 41.926\n",
    "589.822 19.068\n",
    "629.012 2.918\n",
    "706.598 4.548\n",
    "726.002 6.506\n",
    "760.514 13.74\n",
    "778.346 3.42\n",
    "786.766 27.816\n",
    "1020.924 4.632\n",
    "1073.03 34.318\n",
    "1185.776 15.498\n",
    "1208.034 7.506\n",
    "1299.354 3.456\n",
    "('Data/Audio/Crystal Audio Extracted.wav', 2) Batman Left.mp4\n",
    "23.194 6.682\n",
    "174.462 73.336\n",
    "283.426 4.078\n",
    "293.71 36.86\n",
    "363.828 6.266\n",
    "415.818 37.838\n",
    "457.782 37.692\n",
    "582.048 7.772\n",
    "608.892 9.846\n",
    "622.848 6.162\n",
    "640.9 31.192\n",
    "705.486 1.11\n",
    "732.51 7.418\n",
    "774.256 4.088\n",
    "814.584 33.914\n",
    "851.032 4.77\n",
    "870.136 25.18\n",
    "911.85 3.244\n",
    "1020.434 0.488\n",
    "1037.64 17.324\n",
    "1107.35 24.578\n",
    "1135.464 50.31\n",
    "1201.276 6.756\n",
    "1252.058 6.438\n",
    "1274.506 3.59\n",
    "1299.162 0.19\n",
    "```"
   ]
  },
  {
   "cell_type": "code",
   "execution_count": 94,
   "id": "18b362ee",
   "metadata": {
    "scrolled": true
   },
   "outputs": [
    {
     "name": "stdout",
     "output_type": "stream",
     "text": [
      "('Data/Audio/Osi Audio Extracted.wav', 1) Batman Right.mp4\n",
      "1\n",
      "2\n",
      "3\n",
      "4\n",
      "5\n",
      "6\n",
      "7\n",
      "8\n",
      "9\n",
      "10\n",
      "11\n",
      "12\n",
      "13\n",
      "14\n",
      "15\n",
      "16\n",
      "17\n",
      "18\n",
      "19\n",
      "20\n",
      "('Data/Audio/Scott Audio Extracted.wav', 1) Batman Right.mp4\n",
      "21\n",
      "22\n",
      "23\n",
      "24\n",
      "25\n",
      "26\n",
      "27\n",
      "28\n",
      "29\n",
      "30\n",
      "31\n",
      "32\n",
      "33\n",
      "34\n",
      "35\n",
      "36\n",
      "37\n",
      "38\n",
      "('Data/Audio/Chukwu Audio Extracted.wav', 2) Batman Left.mp4\n",
      "39\n",
      "40\n",
      "41\n",
      "42\n",
      "43\n",
      "44\n",
      "45\n",
      "46\n",
      "47\n",
      "48\n",
      "49\n",
      "50\n",
      "51\n",
      "52\n",
      "53\n",
      "54\n",
      "55\n",
      "56\n",
      "57\n",
      "58\n",
      "59\n",
      "60\n",
      "('Data/Audio/Crystal Audio Extracted.wav', 2) Batman Left.mp4\n",
      "61\n",
      "62\n",
      "63\n",
      "64\n",
      "65\n",
      "66\n",
      "67\n",
      "68\n",
      "69\n",
      "70\n",
      "71\n",
      "72\n",
      "73\n",
      "74\n",
      "75\n",
      "76\n",
      "77\n",
      "78\n",
      "79\n",
      "80\n",
      "81\n",
      "82\n",
      "83\n",
      "84\n",
      "85\n",
      "86\n"
     ]
    }
   ],
   "source": [
    "# i is to keep track which audio file we are currently on\n",
    "i=-1\n",
    "\n",
    "# i2 is to keep track of how many clips there are\n",
    "i2=0\n",
    "\n",
    "for lists_of_tuples in list_of_idxmax_mic_data:\n",
    "    #connect the list of tuples to the audio file\n",
    "    #ignore 0 for now. We will come back to this later, i will still be -1 but we will add a default clip instead\n",
    "    if i==-1:\n",
    "        pass\n",
    "    \n",
    "    else: \n",
    "        print(AUDIO_VIDEO_TUPLE_LIST[i],VIDEO_FILEPATH_LIST[AUDIO_VIDEO_TUPLE_LIST[i][1]])\n",
    "    \n",
    "        # Connect the audio and video tracks \n",
    "        atrack=atr_list[i]\n",
    "        afname=AUDIO_VIDEO_TUPLE_LIST[i][0]\n",
    "        \n",
    "        # AUDIO_VIDEO_TUPLE_LIST[i][1] references the VIDEO_FILEPATH_LIST to determine which video file to use\n",
    "        vtrack=vtr_list[AUDIO_VIDEO_TUPLE_LIST[i][1]]\n",
    "        vfname=VIDEO_FILEPATH_LIST[AUDIO_VIDEO_TUPLE_LIST[i][1]]\n",
    "        \n",
    "        \n",
    "    #=========================================================================\n",
    "    \n",
    "    #the adding of clips using the list_of_idxmax_mic_data index starts here        \n",
    "        for tuples in lists_of_tuples:\n",
    "            \n",
    "        #=====================================================\n",
    "        \n",
    "            # adding video clips \n",
    "            #convert the tuple ranges from audio rate to video rate\n",
    "            #audio rate=500\n",
    "            vstarttime=tuples[0]/arate*vrate\n",
    "            vduration=tuples[1]/arate*vrate\n",
    "\n",
    "                   \n",
    "            vtimerange=otio.opentime.TimeRange(\n",
    "                start_time=otio.opentime.RationalTime(vstarttime, vrate),\n",
    "                duration=otio.opentime.RationalTime(vduration, vrate))\n",
    "\n",
    "\n",
    "\n",
    "            vref = otio.schema.ExternalReference(target_url=vfname,\n",
    "            available_range=vtimerange)\n",
    "\n",
    "\n",
    "\n",
    "\n",
    "            # attach the reference to the clip\n",
    "            vcl = otio.schema.Clip(\n",
    "                name=\"vClip{}\".format(i2 + 1),\n",
    "                media_reference=vref,\n",
    "\n",
    "                # available_range_from_list is the \n",
    "                source_range=otio.opentime.TimeRange(\n",
    "                    start_time=otio.opentime.RationalTime(\n",
    "                        vtimerange.start_time.value,\n",
    "                        vtimerange.start_time.rate\n",
    "                    ),\n",
    "                    duration=otio.opentime.RationalTime(\n",
    "                        vtimerange.duration.value,\n",
    "                        vtimerange.duration.rate\n",
    "                    ),\n",
    "                )\n",
    "            )\n",
    "\n",
    "            # put the clip into the track\n",
    "            vtrack.append(vcl)\n",
    "            \n",
    "            \n",
    "            #=======================================================\n",
    "            # adding Audio clips \n",
    "            #convert the tuple ranges from audio rate to video rate\n",
    "            #audio rate=500\n",
    "\n",
    "\n",
    "        \n",
    "\n",
    "            \n",
    "            i2=i2+1\n",
    "\n",
    "            print(i2)\n",
    "    i=i+1"
   ]
  },
  {
   "cell_type": "code",
   "execution_count": 95,
   "id": "c7786363",
   "metadata": {},
   "outputs": [
    {
     "data": {
      "text/plain": [
       "True"
      ]
     },
     "execution_count": 95,
     "metadata": {},
     "output_type": "execute_result"
    }
   ],
   "source": [
    "otio.adapters.write_to_file(tl, 'videoclipsonly.otio')"
   ]
  },
  {
   "cell_type": "markdown",
   "id": "ae58c461",
   "metadata": {},
   "source": [
    "# add a column for camera view as well. This would require:\n",
    "- the video file list\n",
    "- the audio video tuple"
   ]
  },
  {
   "cell_type": "code",
   "execution_count": 104,
   "id": "516df2bf",
   "metadata": {},
   "outputs": [],
   "source": [
    "#idxmax_mic\n",
    "#camera_index"
   ]
  },
  {
   "cell_type": "code",
   "execution_count": 29,
   "id": "43b3278a",
   "metadata": {},
   "outputs": [
    {
     "data": {
      "text/plain": [
       "120.0"
      ]
     },
     "execution_count": 29,
     "metadata": {},
     "output_type": "execute_result"
    }
   ],
   "source": [
    "#experiment analysis Duration is NOT DURATION. it is the end time!\n",
    "# start time 2400 is a hundered seconds in\n",
    "# duration 4800 is that the clip goes for 2400 until it reaches 4800 at the end time "
   ]
  },
  {
   "cell_type": "code",
   "execution_count": 63,
   "id": "6f1512b9",
   "metadata": {},
   "outputs": [
    {
     "data": {
      "text/plain": [
       "556.656"
      ]
     },
     "execution_count": 63,
     "metadata": {},
     "output_type": "execute_result"
    }
   ],
   "source": [
    "tuples[0]/arate*vrate"
   ]
  },
  {
   "cell_type": "code",
   "execution_count": 64,
   "id": "1d89df95",
   "metadata": {},
   "outputs": [
    {
     "data": {
      "text/plain": [
       "717.024"
      ]
     },
     "execution_count": 64,
     "metadata": {},
     "output_type": "execute_result"
    }
   ],
   "source": [
    "tuples[1]/arate*vrate"
   ]
  },
  {
   "cell_type": "code",
   "execution_count": null,
   "id": "a4ddb59a",
   "metadata": {},
   "outputs": [],
   "source": []
  }
 ],
 "metadata": {
  "kernelspec": {
   "display_name": "Python 3 (ipykernel)",
   "language": "python",
   "name": "python3"
  },
  "language_info": {
   "codemirror_mode": {
    "name": "ipython",
    "version": 3
   },
   "file_extension": ".py",
   "mimetype": "text/x-python",
   "name": "python",
   "nbconvert_exporter": "python",
   "pygments_lexer": "ipython3",
   "version": "3.8.11"
  }
 },
 "nbformat": 4,
 "nbformat_minor": 5
}
