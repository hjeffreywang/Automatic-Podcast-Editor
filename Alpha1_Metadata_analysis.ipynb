{
 "cells": [
  {
   "cell_type": "markdown",
   "id": "419a0c98",
   "metadata": {},
   "source": [
    "# Part 4: XML creation\n",
    "## Dependencies: OTIO and pandas\n",
    "\n"
   ]
  },
  {
   "cell_type": "code",
   "execution_count": 1,
   "id": "a85b95ea",
   "metadata": {},
   "outputs": [],
   "source": [
    "#audio\n",
    "from __future__ import print_function\n",
    "import numpy as np\n",
    "import matplotlib\n",
    "import matplotlib.pyplot as plt\n",
    "\n",
    "import librosa\n",
    "import librosa.display"
   ]
  },
  {
   "cell_type": "code",
   "execution_count": 2,
   "id": "68910a33",
   "metadata": {},
   "outputs": [],
   "source": [
    "import pandas as pd \n",
    "import pyloudnorm as pyln"
   ]
  },
  {
   "cell_type": "code",
   "execution_count": 3,
   "id": "2ecbceef",
   "metadata": {},
   "outputs": [
    {
     "name": "stderr",
     "output_type": "stream",
     "text": [
      "WARNING: CPU random generator seem to be failing, disabling hardware random number generation\n",
      "WARNING: RDRND generated: 0xffffffff 0xffffffff 0xffffffff 0xffffffff\n"
     ]
    }
   ],
   "source": [
    "#video\n",
    "import moviepy\n",
    "from moviepy.editor import *\n",
    "import opentimelineio as otio\n",
    "import argparse"
   ]
  },
  {
   "cell_type": "code",
   "execution_count": 4,
   "id": "a3a7e8a1",
   "metadata": {},
   "outputs": [],
   "source": [
    "import cv2"
   ]
  },
  {
   "cell_type": "markdown",
   "id": "b0f9bf31",
   "metadata": {},
   "source": [
    "### Quick summary, OTIO can output XML that CAN be used to import timelines. We just need to learn the behavior and then create a loop to automate clipping, using a imported dataframe as a outline."
   ]
  },
  {
   "cell_type": "markdown",
   "id": "e5bb2dd9",
   "metadata": {},
   "source": [
    "# Timeline Outline behavior testing\n",
    "- First create a list of videos\n",
    "    - sfs\n",
    "- Sec create list of audio\n",
    "\n",
    "- Link audio to video, IE if mic1 use center camera\n",
    "\n",
    "## Use the lists of camera and audio to createa loops creating timeranges"
   ]
  },
  {
   "cell_type": "code",
   "execution_count": 5,
   "id": "852b3d10",
   "metadata": {},
   "outputs": [],
   "source": [
    "VIDEO_FILEPATH_LIST= [\"Hang out 2 Middle-004.mp4\",\"Hang out 2 Left-001.mp4\",\"Hang out 2 Right.mp4\"]"
   ]
  },
  {
   "cell_type": "code",
   "execution_count": 6,
   "id": "672b069c",
   "metadata": {},
   "outputs": [],
   "source": [
    "AUDIO_VIDEO_TUPLE_LIST=[(\"E2 - Chukwu.mp3\", 1), (\"E2 - Osi.mp3\", 1),(\"E2 - Crystal.mp3\",2),(\"E2 - Scott.mp3\",2)]"
   ]
  },
  {
   "cell_type": "code",
   "execution_count": 7,
   "id": "70f48b1f",
   "metadata": {},
   "outputs": [],
   "source": [
    "\n",
    "# build the structure\n",
    "tl = otio.schema.Timeline(name=\"Example timeline\")\n",
    "\n",
    "# add track for each video file and each audio file\n",
    "#for each file add a track\n",
    "for i in VIDEO_FILEPATH_LIST :\n",
    "    tr = otio.schema.Track(name=i)\n",
    "    tl.tracks.append(tr)\n",
    "\n",
    "for i in AUDIO_VIDEO_TUPLE_LIST:\n",
    "    tr = otio.schema.Track(name=i[0])\n",
    "    tl.tracks.append(tr)"
   ]
  },
  {
   "cell_type": "markdown",
   "id": "03efb571",
   "metadata": {},
   "source": [
    "# Further data editing \n",
    "\n",
    "## Create a camera view column that matches the audio_video_tuple to  idxmax"
   ]
  },
  {
   "cell_type": "code",
   "execution_count": 8,
   "id": "f07ad689",
   "metadata": {},
   "outputs": [],
   "source": [
    "data_df=pd.read_pickle('idxmax.pkl')"
   ]
  },
  {
   "cell_type": "code",
   "execution_count": 9,
   "id": "76ba6d5c",
   "metadata": {},
   "outputs": [],
   "source": [
    "#use indexes of when crossover is 1 to change cam_view to 0 for three seconds after crossover"
   ]
  },
  {
   "cell_type": "code",
   "execution_count": 10,
   "id": "62f6cb65",
   "metadata": {},
   "outputs": [],
   "source": [
    "\n",
    "cap = cv2. VideoCapture(\"Middle View.mp4\")\n",
    "vlength = int(cap. get(cv2. CAP_PROP_FRAME_COUNT))\n",
    "alength=len(data_df)"
   ]
  },
  {
   "cell_type": "code",
   "execution_count": 11,
   "id": "1bc36f54",
   "metadata": {},
   "outputs": [
    {
     "data": {
      "text/plain": [
       "0"
      ]
     },
     "execution_count": 11,
     "metadata": {},
     "output_type": "execute_result"
    }
   ],
   "source": [
    "alength\n",
    "vlength"
   ]
  },
  {
   "cell_type": "code",
   "execution_count": 12,
   "id": "cca3e5c7",
   "metadata": {},
   "outputs": [
    {
     "data": {
      "text/html": [
       "<div>\n",
       "<style scoped>\n",
       "    .dataframe tbody tr th:only-of-type {\n",
       "        vertical-align: middle;\n",
       "    }\n",
       "\n",
       "    .dataframe tbody tr th {\n",
       "        vertical-align: top;\n",
       "    }\n",
       "\n",
       "    .dataframe thead th {\n",
       "        text-align: right;\n",
       "    }\n",
       "</style>\n",
       "<table border=\"1\" class=\"dataframe\">\n",
       "  <thead>\n",
       "    <tr style=\"text-align: right;\">\n",
       "      <th></th>\n",
       "      <th>idxmax</th>\n",
       "      <th>crossover</th>\n",
       "      <th>high_mult_thresh</th>\n",
       "      <th>low_mult_thresh</th>\n",
       "      <th>nearnesssound</th>\n",
       "      <th>A0</th>\n",
       "      <th>A1</th>\n",
       "      <th>A2</th>\n",
       "      <th>A3</th>\n",
       "      <th>Main_cam</th>\n",
       "    </tr>\n",
       "  </thead>\n",
       "  <tbody>\n",
       "    <tr>\n",
       "      <th>0</th>\n",
       "      <td>0</td>\n",
       "      <td>0</td>\n",
       "      <td>0</td>\n",
       "      <td>0</td>\n",
       "      <td>0</td>\n",
       "      <td>0</td>\n",
       "      <td>0</td>\n",
       "      <td>0</td>\n",
       "      <td>0</td>\n",
       "      <td>0</td>\n",
       "    </tr>\n",
       "    <tr>\n",
       "      <th>1</th>\n",
       "      <td>0</td>\n",
       "      <td>0</td>\n",
       "      <td>0</td>\n",
       "      <td>0</td>\n",
       "      <td>0</td>\n",
       "      <td>0</td>\n",
       "      <td>0</td>\n",
       "      <td>0</td>\n",
       "      <td>0</td>\n",
       "      <td>0</td>\n",
       "    </tr>\n",
       "    <tr>\n",
       "      <th>2</th>\n",
       "      <td>0</td>\n",
       "      <td>0</td>\n",
       "      <td>0</td>\n",
       "      <td>0</td>\n",
       "      <td>0</td>\n",
       "      <td>0</td>\n",
       "      <td>0</td>\n",
       "      <td>0</td>\n",
       "      <td>0</td>\n",
       "      <td>0</td>\n",
       "    </tr>\n",
       "    <tr>\n",
       "      <th>3</th>\n",
       "      <td>0</td>\n",
       "      <td>0</td>\n",
       "      <td>0</td>\n",
       "      <td>0</td>\n",
       "      <td>0</td>\n",
       "      <td>0</td>\n",
       "      <td>0</td>\n",
       "      <td>0</td>\n",
       "      <td>0</td>\n",
       "      <td>0</td>\n",
       "    </tr>\n",
       "    <tr>\n",
       "      <th>4</th>\n",
       "      <td>0</td>\n",
       "      <td>0</td>\n",
       "      <td>0</td>\n",
       "      <td>0</td>\n",
       "      <td>0</td>\n",
       "      <td>0</td>\n",
       "      <td>0</td>\n",
       "      <td>0</td>\n",
       "      <td>0</td>\n",
       "      <td>0</td>\n",
       "    </tr>\n",
       "    <tr>\n",
       "      <th>...</th>\n",
       "      <td>...</td>\n",
       "      <td>...</td>\n",
       "      <td>...</td>\n",
       "      <td>...</td>\n",
       "      <td>...</td>\n",
       "      <td>...</td>\n",
       "      <td>...</td>\n",
       "      <td>...</td>\n",
       "      <td>...</td>\n",
       "      <td>...</td>\n",
       "    </tr>\n",
       "    <tr>\n",
       "      <th>1733491</th>\n",
       "      <td>0</td>\n",
       "      <td>0</td>\n",
       "      <td>0</td>\n",
       "      <td>0</td>\n",
       "      <td>0</td>\n",
       "      <td>0</td>\n",
       "      <td>0</td>\n",
       "      <td>0</td>\n",
       "      <td>0</td>\n",
       "      <td>0</td>\n",
       "    </tr>\n",
       "    <tr>\n",
       "      <th>1733492</th>\n",
       "      <td>0</td>\n",
       "      <td>0</td>\n",
       "      <td>0</td>\n",
       "      <td>0</td>\n",
       "      <td>0</td>\n",
       "      <td>0</td>\n",
       "      <td>0</td>\n",
       "      <td>0</td>\n",
       "      <td>0</td>\n",
       "      <td>0</td>\n",
       "    </tr>\n",
       "    <tr>\n",
       "      <th>1733493</th>\n",
       "      <td>0</td>\n",
       "      <td>0</td>\n",
       "      <td>0</td>\n",
       "      <td>0</td>\n",
       "      <td>0</td>\n",
       "      <td>0</td>\n",
       "      <td>0</td>\n",
       "      <td>0</td>\n",
       "      <td>0</td>\n",
       "      <td>0</td>\n",
       "    </tr>\n",
       "    <tr>\n",
       "      <th>1733494</th>\n",
       "      <td>0</td>\n",
       "      <td>0</td>\n",
       "      <td>0</td>\n",
       "      <td>0</td>\n",
       "      <td>0</td>\n",
       "      <td>0</td>\n",
       "      <td>0</td>\n",
       "      <td>0</td>\n",
       "      <td>0</td>\n",
       "      <td>0</td>\n",
       "    </tr>\n",
       "    <tr>\n",
       "      <th>1733495</th>\n",
       "      <td>0</td>\n",
       "      <td>0</td>\n",
       "      <td>0</td>\n",
       "      <td>0</td>\n",
       "      <td>0</td>\n",
       "      <td>0</td>\n",
       "      <td>0</td>\n",
       "      <td>0</td>\n",
       "      <td>0</td>\n",
       "      <td>0</td>\n",
       "    </tr>\n",
       "  </tbody>\n",
       "</table>\n",
       "<p>1733496 rows × 10 columns</p>\n",
       "</div>"
      ],
      "text/plain": [
       "         idxmax  crossover  high_mult_thresh  low_mult_thresh  nearnesssound  \\\n",
       "0             0          0                 0                0              0   \n",
       "1             0          0                 0                0              0   \n",
       "2             0          0                 0                0              0   \n",
       "3             0          0                 0                0              0   \n",
       "4             0          0                 0                0              0   \n",
       "...         ...        ...               ...              ...            ...   \n",
       "1733491       0          0                 0                0              0   \n",
       "1733492       0          0                 0                0              0   \n",
       "1733493       0          0                 0                0              0   \n",
       "1733494       0          0                 0                0              0   \n",
       "1733495       0          0                 0                0              0   \n",
       "\n",
       "         A0  A1  A2  A3  Main_cam  \n",
       "0         0   0   0   0         0  \n",
       "1         0   0   0   0         0  \n",
       "2         0   0   0   0         0  \n",
       "3         0   0   0   0         0  \n",
       "4         0   0   0   0         0  \n",
       "...      ..  ..  ..  ..       ...  \n",
       "1733491   0   0   0   0         0  \n",
       "1733492   0   0   0   0         0  \n",
       "1733493   0   0   0   0         0  \n",
       "1733494   0   0   0   0         0  \n",
       "1733495   0   0   0   0         0  \n",
       "\n",
       "[1733496 rows x 10 columns]"
      ]
     },
     "execution_count": 12,
     "metadata": {},
     "output_type": "execute_result"
    }
   ],
   "source": [
    "data_df"
   ]
  },
  {
   "cell_type": "code",
   "execution_count": 13,
   "id": "e9bc77e9",
   "metadata": {},
   "outputs": [],
   "source": [
    "#create an empty\n",
    "\n",
    "#if crossover is 1, change that column +rate*3"
   ]
  },
  {
   "cell_type": "markdown",
   "id": "df113f99",
   "metadata": {},
   "source": [
    "## Create intervals of data in tuple form. \n",
    "## Audio Tuples represent the start and end frame of when mic is dominant. Camera 0 is default cam in case of uncertainty, which is center cam in this scenario.\n",
    "## Video Tuples represent the start and end frame of which mic to use. \n"
   ]
  },
  {
   "cell_type": "code",
   "execution_count": 14,
   "id": "dbf64797",
   "metadata": {},
   "outputs": [],
   "source": [
    "def dataframe_getintervals(series,desiredvalue):\n",
    "    #make sure series is the df['column']\n",
    "    t=series.index[series==desiredvalue].to_series()\n",
    "    interval_list=t.groupby(t.diff().ne(1).cumsum()).agg(['first','last']).apply(tuple,1).tolist()\n",
    "    \n",
    "    return interval_list"
   ]
  },
  {
   "cell_type": "code",
   "execution_count": 15,
   "id": "bcb2df49",
   "metadata": {},
   "outputs": [],
   "source": [
    "#create lists of tuples for each camera based on the audio\n",
    "\n",
    "list_of_idxmax_mic_data=[]\n",
    "for i in range(len(AUDIO_VIDEO_TUPLE_LIST)+1):\n",
    "    tuple_list=dataframe_getintervals(data_df['idxmax'],i)\n",
    "    list_of_idxmax_mic_data.append(tuple_list)\n",
    "\n",
    "    \n",
    "##create lists of tuples for each Audio"
   ]
  },
  {
   "cell_type": "code",
   "execution_count": 16,
   "id": "d80e0dae",
   "metadata": {},
   "outputs": [],
   "source": [
    "#creating a list to referencing the column names of df \n",
    "list_str_audio_thresholds=[]\n",
    "for irow in range(len(AUDIO_VIDEO_TUPLE_LIST)):\n",
    "    varname=\"A\"\n",
    "    list_str_audio_thresholds.append(varname+str(irow))"
   ]
  },
  {
   "cell_type": "code",
   "execution_count": 17,
   "id": "49637034",
   "metadata": {},
   "outputs": [],
   "source": [
    "#create lists of tuples for each audio based the threshold region\n",
    "list_of_tuples_threshold_mic_data=[]\n",
    "for i in range(len(AUDIO_VIDEO_TUPLE_LIST)):\n",
    "    tuple_list=dataframe_getintervals(data_df[list_str_audio_thresholds[i]],1)\n",
    "    list_of_tuples_threshold_mic_data.append(tuple_list)"
   ]
  },
  {
   "cell_type": "code",
   "execution_count": 18,
   "id": "575ab4f0",
   "metadata": {},
   "outputs": [],
   "source": [
    "xml_to_otio_test=otio.adapters.read_from_file('Fixed Settings.xml')\n"
   ]
  },
  {
   "cell_type": "code",
   "execution_count": 19,
   "id": "8af536f0",
   "metadata": {},
   "outputs": [
    {
     "data": {
      "text/plain": [
       "{'fcp_xml': {'@AM.TrackScrollPosition': '0', '@AM.TrackVScrollPosition': '75', '@MZ.EditLine': '6600425832000', '@MZ.Sequence.AudioTimeDisplayFormat': '200', '@MZ.Sequence.EditingModeGUID': '795454d9-d3c2-429d-9474-923ab13b7018', '@MZ.Sequence.PreviewFrameSizeHeight': '1080', '@MZ.Sequence.PreviewFrameSizeWidth': '1920', '@MZ.Sequence.PreviewRenderingClassID': '1061109567', '@MZ.Sequence.PreviewRenderingPresetCodec': '1297107278', '@MZ.Sequence.PreviewRenderingPresetPath': 'EncoderPresets/SequencePreview/795454d9-d3c2-429d-9474-923ab13b7018/I-Frame Only MPEG.epr', '@MZ.Sequence.PreviewUseMaxBitDepth': 'false', '@MZ.Sequence.PreviewUseMaxRenderQuality': 'false', '@MZ.Sequence.VideoTimeDisplayFormat': '110', '@Monitor.ProgramZoomIn': '0', '@Monitor.ProgramZoomOut': '279167288400000', '@TL.SQAVDividerPosition': '0.5', '@TL.SQAudioVisibleBase': '0', '@TL.SQHeaderWidth': '236', '@TL.SQHideShyTracks': '0', '@TL.SQTimePerPixel': '0.19999999999999998', '@TL.SQVideoVisibleBase': '0', '@TL.SQVisibleBaseTime': '0', '@explodedTracks': 'true', '@id': 'sequence-2', 'labels': {'label2': 'Forest'}, 'logginginfo': {'description': None, 'good': None, 'lognote': None, 'originalaudiofilename': None, 'originalvideofilename': None, 'scene': None, 'shottake': None}, 'media': {'audio': {'format': {'samplecharacteristics': {'depth': '16', 'samplerate': '48000'}}, 'numOutputChannels': '2', 'outputs': {'group': [{'channel': {'index': '1'}, 'downmix': '0', 'index': '1', 'numchannels': '1'}, {'channel': {'index': '2'}, 'downmix': '0', 'index': '2', 'numchannels': '1'}]}}, 'video': {'format': {'samplecharacteristics': {'anamorphic': 'FALSE', 'codec': {'appspecificdata': {'appmanufacturer': 'Apple Inc.', 'appname': 'Final Cut Pro', 'appversion': '7.0', 'data': {'qtcodec': {'codecname': 'Apple ProRes 422', 'codectypecode': 'apcn', 'codectypename': 'Apple ProRes 422', 'codecvendorcode': 'appl', 'datarate': '0', 'keyframerate': '0', 'spatialquality': '1024', 'temporalquality': '0'}}}, 'name': 'Apple ProRes 422'}, 'colordepth': '24', 'fielddominance': 'none', 'height': '2160', 'pixelaspectratio': 'square', 'rate': {'ntsc': 'TRUE', 'timebase': '24'}, 'width': '3840'}}}}, 'rate': {'ntsc': 'TRUE', 'timebase': '24'}, 'timecode': {'displayformat': 'NDF', 'rate': {'ntsc': 'TRUE', 'timebase': '24'}}, 'uuid': '377abc11-205d-498b-b058-6e73c151d97f'}}"
      ]
     },
     "execution_count": 19,
     "metadata": {},
     "output_type": "execute_result"
    }
   ],
   "source": [
    "xml_to_otio_test.metadata"
   ]
  },
  {
   "cell_type": "code",
   "execution_count": 20,
   "id": "b2ff66c2",
   "metadata": {},
   "outputs": [
    {
     "data": {
      "text/plain": [
       "{'fcp_xml': {'@AM.TrackScrollPosition': '0',\n",
       "  '@AM.TrackVScrollPosition': '75',\n",
       "  '@MZ.EditLine': '6600425832000',\n",
       "  '@MZ.Sequence.AudioTimeDisplayFormat': '200',\n",
       "  '@MZ.Sequence.EditingModeGUID': '795454d9-d3c2-429d-9474-923ab13b7018',\n",
       "  '@MZ.Sequence.PreviewFrameSizeHeight': '1080',\n",
       "  '@MZ.Sequence.PreviewFrameSizeWidth': '1920',\n",
       "  '@MZ.Sequence.PreviewRenderingClassID': '1061109567',\n",
       "  '@MZ.Sequence.PreviewRenderingPresetCodec': '1297107278',\n",
       "  '@MZ.Sequence.PreviewRenderingPresetPath': 'EncoderPresets/SequencePreview/795454d9-d3c2-429d-9474-923ab13b7018/I-Frame Only MPEG.epr',\n",
       "  '@MZ.Sequence.PreviewUseMaxBitDepth': 'false',\n",
       "  '@MZ.Sequence.PreviewUseMaxRenderQuality': 'false',\n",
       "  '@MZ.Sequence.VideoTimeDisplayFormat': '110',\n",
       "  '@Monitor.ProgramZoomIn': '0',\n",
       "  '@Monitor.ProgramZoomOut': '279167288400000',\n",
       "  '@TL.SQAVDividerPosition': '0.5',\n",
       "  '@TL.SQAudioVisibleBase': '0',\n",
       "  '@TL.SQHeaderWidth': '236',\n",
       "  '@TL.SQHideShyTracks': '0',\n",
       "  '@TL.SQTimePerPixel': '0.19999999999999998',\n",
       "  '@TL.SQVideoVisibleBase': '0',\n",
       "  '@TL.SQVisibleBaseTime': '0',\n",
       "  '@explodedTracks': 'true',\n",
       "  '@id': 'sequence-2',\n",
       "  'labels': {'label2': 'Forest'},\n",
       "  'logginginfo': {'description': None,\n",
       "   'good': None,\n",
       "   'lognote': None,\n",
       "   'originalaudiofilename': None,\n",
       "   'originalvideofilename': None,\n",
       "   'scene': None,\n",
       "   'shottake': None},\n",
       "  'media': {'audio': {'format': {'samplecharacteristics': {'depth': '16',\n",
       "      'samplerate': '48000'}},\n",
       "    'numOutputChannels': '2',\n",
       "    'outputs': {'group': [{'channel': {'index': '1'},\n",
       "       'downmix': '0',\n",
       "       'index': '1',\n",
       "       'numchannels': '1'},\n",
       "      {'channel': {'index': '2'},\n",
       "       'downmix': '0',\n",
       "       'index': '2',\n",
       "       'numchannels': '1'}]}},\n",
       "   'video': {'format': {'samplecharacteristics': {'anamorphic': 'FALSE',\n",
       "      'codec': {'appspecificdata': {'appmanufacturer': 'Apple Inc.',\n",
       "        'appname': 'Final Cut Pro',\n",
       "        'appversion': '7.0',\n",
       "        'data': {'qtcodec': {'codecname': 'Apple ProRes 422',\n",
       "          'codectypecode': 'apcn',\n",
       "          'codectypename': 'Apple ProRes 422',\n",
       "          'codecvendorcode': 'appl',\n",
       "          'datarate': '0',\n",
       "          'keyframerate': '0',\n",
       "          'spatialquality': '1024',\n",
       "          'temporalquality': '0'}}},\n",
       "       'name': 'Apple ProRes 422'},\n",
       "      'colordepth': '24',\n",
       "      'fielddominance': 'none',\n",
       "      'height': '2160',\n",
       "      'pixelaspectratio': 'square',\n",
       "      'rate': {'ntsc': 'TRUE', 'timebase': '24'},\n",
       "      'width': '3840'}}}},\n",
       "  'rate': {'ntsc': 'TRUE', 'timebase': '24'},\n",
       "  'timecode': {'displayformat': 'NDF',\n",
       "   'rate': {'ntsc': 'TRUE', 'timebase': '24'}},\n",
       "  'uuid': '377abc11-205d-498b-b058-6e73c151d97f'}}"
      ]
     },
     "execution_count": 20,
     "metadata": {},
     "output_type": "execute_result"
    }
   ],
   "source": [
    "{'fcp_xml': {'@AM.TrackScrollPosition': '0', '@AM.TrackVScrollPosition': '75', '@MZ.EditLine': '6600425832000', '@MZ.Sequence.AudioTimeDisplayFormat': '200', '@MZ.Sequence.EditingModeGUID': '795454d9-d3c2-429d-9474-923ab13b7018', '@MZ.Sequence.PreviewFrameSizeHeight': '1080', '@MZ.Sequence.PreviewFrameSizeWidth': '1920', '@MZ.Sequence.PreviewRenderingClassID': '1061109567', '@MZ.Sequence.PreviewRenderingPresetCodec': '1297107278', '@MZ.Sequence.PreviewRenderingPresetPath': 'EncoderPresets/SequencePreview/795454d9-d3c2-429d-9474-923ab13b7018/I-Frame Only MPEG.epr', '@MZ.Sequence.PreviewUseMaxBitDepth': 'false', '@MZ.Sequence.PreviewUseMaxRenderQuality': 'false', '@MZ.Sequence.VideoTimeDisplayFormat': '110', '@Monitor.ProgramZoomIn': '0', '@Monitor.ProgramZoomOut': '279167288400000', '@TL.SQAVDividerPosition': '0.5', '@TL.SQAudioVisibleBase': '0', '@TL.SQHeaderWidth': '236', '@TL.SQHideShyTracks': '0', '@TL.SQTimePerPixel': '0.19999999999999998', '@TL.SQVideoVisibleBase': '0', '@TL.SQVisibleBaseTime': '0', '@explodedTracks': 'true', '@id': 'sequence-2', 'labels': {'label2': 'Forest'}, 'logginginfo': {'description': None, 'good': None, 'lognote': None, 'originalaudiofilename': None, 'originalvideofilename': None, 'scene': None, 'shottake': None}, 'media': {'audio': {'format': {'samplecharacteristics': {'depth': '16', 'samplerate': '48000'}}, 'numOutputChannels': '2', 'outputs': {'group': [{'channel': {'index': '1'}, 'downmix': '0', 'index': '1', 'numchannels': '1'}, {'channel': {'index': '2'}, 'downmix': '0', 'index': '2', 'numchannels': '1'}]}}, 'video': {'format': {'samplecharacteristics': {'anamorphic': 'FALSE', 'codec': {'appspecificdata': {'appmanufacturer': 'Apple Inc.', 'appname': 'Final Cut Pro', 'appversion': '7.0', 'data': {'qtcodec': {'codecname': 'Apple ProRes 422', 'codectypecode': 'apcn', 'codectypename': 'Apple ProRes 422', 'codecvendorcode': 'appl', 'datarate': '0', 'keyframerate': '0', 'spatialquality': '1024', 'temporalquality': '0'}}}, 'name': 'Apple ProRes 422'}, 'colordepth': '24', 'fielddominance': 'none', 'height': '2160', 'pixelaspectratio': 'square', 'rate': {'ntsc': 'TRUE', 'timebase': '24'}, 'width': '3840'}}}}, 'rate': {'ntsc': 'TRUE', 'timebase': '24'}, 'timecode': {'displayformat': 'NDF', 'rate': {'ntsc': 'TRUE', 'timebase': '24'}}, 'uuid': '377abc11-205d-498b-b058-6e73c151d97f'}}"
   ]
  },
  {
   "cell_type": "code",
   "execution_count": null,
   "id": "169b599c",
   "metadata": {},
   "outputs": [],
   "source": []
  }
 ],
 "metadata": {
  "kernelspec": {
   "display_name": "Python 3 (ipykernel)",
   "language": "python",
   "name": "python3"
  },
  "language_info": {
   "codemirror_mode": {
    "name": "ipython",
    "version": 3
   },
   "file_extension": ".py",
   "mimetype": "text/x-python",
   "name": "python",
   "nbconvert_exporter": "python",
   "pygments_lexer": "ipython3",
   "version": "3.10.4"
  }
 },
 "nbformat": 4,
 "nbformat_minor": 5
}
