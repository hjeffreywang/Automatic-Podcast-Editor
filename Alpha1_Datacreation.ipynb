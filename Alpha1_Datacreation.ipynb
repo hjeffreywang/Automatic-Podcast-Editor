{
 "cells": [
  {
   "cell_type": "markdown",
   "id": "419a0c98",
   "metadata": {},
   "source": [
    "# Data creation with minimal exploration\n"
   ]
  },
  {
   "cell_type": "code",
   "execution_count": 1,
   "id": "a85b95ea",
   "metadata": {},
   "outputs": [],
   "source": [
    "#audio\n",
    "from __future__ import print_function\n",
    "import numpy as np\n",
    "import matplotlib\n",
    "import matplotlib.pyplot as plt\n",
    "\n",
    "import librosa\n",
    "import librosa.display"
   ]
  },
  {
   "cell_type": "code",
   "execution_count": 2,
   "id": "68910a33",
   "metadata": {},
   "outputs": [],
   "source": [
    "import pandas as pd \n",
    "import pyloudnorm as pyln"
   ]
  },
  {
   "cell_type": "code",
   "execution_count": 3,
   "id": "2ecbceef",
   "metadata": {},
   "outputs": [
    {
     "name": "stderr",
     "output_type": "stream",
     "text": [
      "WARNING: CPU random generator seem to be failing, disabling hardware random number generation\n",
      "WARNING: RDRND generated: 0xffffffff 0xffffffff 0xffffffff 0xffffffff\n"
     ]
    }
   ],
   "source": [
    "#video\n",
    "import moviepy\n",
    "from moviepy.editor import *"
   ]
  },
  {
   "cell_type": "code",
   "execution_count": 4,
   "id": "75a74e95",
   "metadata": {},
   "outputs": [],
   "source": [
    "#importing audio\n",
    "#x1 waveform \n",
    "#fs sampling rate"
   ]
  },
  {
   "cell_type": "code",
   "execution_count": 5,
   "id": "4698e666",
   "metadata": {},
   "outputs": [],
   "source": [
    "file_dir_list=[\"Mistborn E0 - Scott.wav\", \"Mistborn E0 - Zack.wav\"]\n",
    "\n"
   ]
  },
  {
   "cell_type": "code",
   "execution_count": 6,
   "id": "c9c132b1",
   "metadata": {},
   "outputs": [],
   "source": [
    "AUDIO_VIDEO_TUPLE_LIST=[(\"Mistborn E0 - Scott.wav\", 1), (\"Mistborn E0 - Zack.wav\",2)]"
   ]
  },
  {
   "cell_type": "code",
   "execution_count": 7,
   "id": "e0056371",
   "metadata": {},
   "outputs": [],
   "source": [
    "VIDEO_FILEPATH_LIST= [\"Middle View.mp4\",\"Scott View.mp4\",\"Zack View.mp4\"]"
   ]
  },
  {
   "cell_type": "markdown",
   "id": "5a458949",
   "metadata": {},
   "source": [
    "## Creating Data for each Microphone\n"
   ]
  },
  {
   "cell_type": "code",
   "execution_count": 8,
   "id": "079a5c37",
   "metadata": {},
   "outputs": [],
   "source": [
    "#importing video and its audio\n",
    "def dataframecreation(file_dir_list,rate):\n",
    "    df_list=[]\n",
    "    instance=1\n",
    "    for file_dir in file_dir_list:\n",
    "        data1, rate1 = librosa.load(file_dir, sr=48000) \n",
    "        data= librosa.resample(data1, orig_sr=rate1, target_sr=rate, scale=True)\n",
    "\n",
    "        # peak normalize audio to -1 dB\n",
    "        peak_normalized_audio = pyln.normalize.peak(data, -1.0)\n",
    "\n",
    "        # measure the loudness first \n",
    "        meter = pyln.Meter(rate) # create BS.1770 meter\n",
    "        loudness = meter.integrated_loudness(data)\n",
    "\n",
    "        # loudness normalize audio to -12 dB LUFS\n",
    "        audio_data_df = pd.DataFrame(pyln.normalize.loudness(data, loudness, -20.0)).rename(columns={0:str(instance)})\n",
    "        df_list.append(audio_data_df)\n",
    "        instance=instance+1\n",
    "    return(df_list)"
   ]
  },
  {
   "cell_type": "code",
   "execution_count": 9,
   "id": "0dd8780f",
   "metadata": {},
   "outputs": [],
   "source": [
    "def doublerollingaverage1(df_list,rate):\n",
    "    dra_df_list=[]\n",
    "    for df in df_list:\n",
    "        indexer = pd.api.indexers.FixedForwardWindowIndexer(window_size=2*rate)\n",
    "        rollingaverage_df=df.abs().rolling(indexer).mean()\n",
    "        Drollingaverage_df=rollingaverage_df.abs().rolling(rate*5,center=True).mean()\n",
    "        dra_df_list.append(Drollingaverage_df)\n",
    "    return dra_df_list"
   ]
  },
  {
   "cell_type": "code",
   "execution_count": 10,
   "id": "33327f6d",
   "metadata": {},
   "outputs": [],
   "source": [
    "def doublerollingaverage(df_list,rate):\n",
    "    dra_df_list=[]\n",
    "    for df in df_list:\n",
    "        rollingaverage_df=df.abs().rolling(rate*5,center=True).mean()\n",
    "        Drollingaverage_df=rollingaverage_df.abs().rolling(rate*5,center=True).mean()\n",
    "        dra_df_list.append(Drollingaverage_df)\n",
    "    return dra_df_list"
   ]
  },
  {
   "cell_type": "markdown",
   "id": "38214832",
   "metadata": {},
   "source": [
    "# Exhibit A: blue laughs while orange is talking. at 2:02. Speaker shifts at around 2:30.5 and 2:53"
   ]
  },
  {
   "cell_type": "code",
   "execution_count": 11,
   "id": "c1ac7b94",
   "metadata": {},
   "outputs": [],
   "source": [
    "rate=500 #samples per sec"
   ]
  },
  {
   "cell_type": "code",
   "execution_count": 12,
   "id": "cfe9c68f",
   "metadata": {},
   "outputs": [],
   "source": [
    "df_list=dataframecreation(file_dir_list,rate)\n"
   ]
  },
  {
   "cell_type": "code",
   "execution_count": 13,
   "id": "7c630110",
   "metadata": {},
   "outputs": [],
   "source": [
    "dra_df_list=doublerollingaverage(df_list,rate)"
   ]
  },
  {
   "cell_type": "code",
   "execution_count": 35,
   "id": "6ddafed3",
   "metadata": {},
   "outputs": [
    {
     "data": {
      "image/png": "[encoded data removed]",
      "text/plain": [
       "<Figure size 432x288 with 1 Axes>"
      ]
     },
     "metadata": {
      "needs_background": "light"
     },
     "output_type": "display_data"
    },
    {
     "name": "stdout",
     "output_type": "stream",
     "text": [
      "Executing shutdown due to inactivity...\n"
     ]
    },
    {
     "name": "stderr",
     "output_type": "stream",
     "text": [
      "2022-07-08 23:24:25,768 - INFO     - Executing shutdown due to inactivity...\n"
     ]
    },
    {
     "name": "stdout",
     "output_type": "stream",
     "text": [
      "Executing shutdown...\n"
     ]
    },
    {
     "name": "stderr",
     "output_type": "stream",
     "text": [
      "2022-07-08 23:24:25,778 - INFO     - Executing shutdown...\n"
     ]
    },
    {
     "name": "stdout",
     "output_type": "stream",
     "text": [
      "Exception on /shutdown [GET]\n",
      "Traceback (most recent call last):\n",
      "  File \"/home/jeffwa/anaconda3/envs/DL_new/lib/python3.10/site-packages/flask/app.py\", line 2077, in wsgi_app\n",
      "    response = self.full_dispatch_request()\n",
      "  File \"/home/jeffwa/anaconda3/envs/DL_new/lib/python3.10/site-packages/flask/app.py\", line 1525, in full_dispatch_request\n",
      "    rv = self.handle_user_exception(e)\n",
      "  File \"/home/jeffwa/anaconda3/envs/DL_new/lib/python3.10/site-packages/flask/app.py\", line 1523, in full_dispatch_request\n",
      "    rv = self.dispatch_request()\n",
      "  File \"/home/jeffwa/anaconda3/envs/DL_new/lib/python3.10/site-packages/flask/app.py\", line 1509, in dispatch_request\n",
      "    return self.ensure_sync(self.view_functions[rule.endpoint])(**req.view_args)\n",
      "  File \"/home/jeffwa/anaconda3/envs/DL_new/lib/python3.10/site-packages/dtale/app.py\", line 410, in shutdown\n",
      "    shutdown_server()\n",
      "  File \"/home/jeffwa/anaconda3/envs/DL_new/lib/python3.10/site-packages/dtale/app.py\", line 396, in shutdown_server\n",
      "    raise RuntimeError(\"Not running with the Werkzeug Server\")\n",
      "RuntimeError: Not running with the Werkzeug Server\n"
     ]
    },
    {
     "name": "stderr",
     "output_type": "stream",
     "text": [
      "2022-07-08 23:24:25,779 - ERROR    - Exception on /shutdown [GET]\n",
      "Traceback (most recent call last):\n",
      "  File \"/home/jeffwa/anaconda3/envs/DL_new/lib/python3.10/site-packages/flask/app.py\", line 2077, in wsgi_app\n",
      "    response = self.full_dispatch_request()\n",
      "  File \"/home/jeffwa/anaconda3/envs/DL_new/lib/python3.10/site-packages/flask/app.py\", line 1525, in full_dispatch_request\n",
      "    rv = self.handle_user_exception(e)\n",
      "  File \"/home/jeffwa/anaconda3/envs/DL_new/lib/python3.10/site-packages/flask/app.py\", line 1523, in full_dispatch_request\n",
      "    rv = self.dispatch_request()\n",
      "  File \"/home/jeffwa/anaconda3/envs/DL_new/lib/python3.10/site-packages/flask/app.py\", line 1509, in dispatch_request\n",
      "    return self.ensure_sync(self.view_functions[rule.endpoint])(**req.view_args)\n",
      "  File \"/home/jeffwa/anaconda3/envs/DL_new/lib/python3.10/site-packages/dtale/app.py\", line 410, in shutdown\n",
      "    shutdown_server()\n",
      "  File \"/home/jeffwa/anaconda3/envs/DL_new/lib/python3.10/site-packages/dtale/app.py\", line 396, in shutdown_server\n",
      "    raise RuntimeError(\"Not running with the Werkzeug Server\")\n",
      "RuntimeError: Not running with the Werkzeug Server\n"
     ]
    }
   ],
   "source": [
    "fig = plt.figure()\n",
    "for frame in dra_df_list:\n",
    "    plt.plot(frame[0:150*rate])\n",
    "\n"
   ]
  },
  {
   "cell_type": "markdown",
   "id": "8275e0a5",
   "metadata": {},
   "source": [
    "# Testing the logics, Creating speaking intervals"
   ]
  },
  {
   "cell_type": "code",
   "execution_count": 15,
   "id": "a7906707",
   "metadata": {},
   "outputs": [],
   "source": [
    "import dtale"
   ]
  },
  {
   "cell_type": "code",
   "execution_count": 16,
   "id": "5620addf",
   "metadata": {},
   "outputs": [],
   "source": [
    "#combine dfs first\n",
    "combined_df=pd.concat(dra_df_list,axis=1)\n",
    "#this why sync is important so that the rows are exactly aligned"
   ]
  },
  {
   "cell_type": "code",
   "execution_count": 17,
   "id": "1746e2f7",
   "metadata": {
    "scrolled": true
   },
   "outputs": [
    {
     "data": {
      "text/plain": [
       "range(0, 2)"
      ]
     },
     "execution_count": 17,
     "metadata": {},
     "output_type": "execute_result"
    }
   ],
   "source": [
    "range(len(combined_df.loc[10000].values))"
   ]
  },
  {
   "cell_type": "code",
   "execution_count": 18,
   "id": "7809aeba",
   "metadata": {},
   "outputs": [],
   "source": [
    "#create list of string to call for each audio file. Used to call the audio name\n",
    "list_str_audio_thresholds=[]\n",
    "\n",
    "#for each audio element, create a new list \"A{i}\" and put that into a list\n",
    "#each audio file is identified by its place in the tuple\n",
    "for irow in range(len(AUDIO_VIDEO_TUPLE_LIST)):\n",
    "    varname=\"A\"\n",
    "    exec(f\"{varname}{irow} = []\")\n",
    "    \n",
    "    \n",
    "    list_str_audio_thresholds.append(varname+str(irow))"
   ]
  },
  {
   "cell_type": "code",
   "execution_count": 19,
   "id": "2be3bb15",
   "metadata": {},
   "outputs": [
    {
     "data": {
      "text/plain": [
       "[]"
      ]
     },
     "execution_count": 19,
     "metadata": {},
     "output_type": "execute_result"
    }
   ],
   "source": [
    "eval(list_str_audio_thresholds[1])"
   ]
  },
  {
   "cell_type": "markdown",
   "id": "1f69f30c",
   "metadata": {},
   "source": [
    "# testing"
   ]
  },
  {
   "cell_type": "code",
   "execution_count": 20,
   "id": "cd901cbd",
   "metadata": {},
   "outputs": [],
   "source": [
    "frames_list=[]\n",
    "largestindex_list=[]\n",
    "crossover_list=[]\n",
    "high_multiplethreshold_list=[]\n",
    "similarloudness_list=[]\n",
    "low_multiplethreshold_list=[]\n",
    "for irow in range(len(combined_df)):\n",
    "    #creating variables to call\n",
    "\n",
    "    #more efficient to call variable than constant function calling\n",
    "    nlargest=combined_df.loc[irow].nlargest(2)\n",
    "    idxmax=combined_df.loc[irow].idxmax()\n",
    "    values=combined_df.loc[irow].values\n",
    "    if irow !=0:\n",
    "        prev_idxmax=combined_df.loc[irow-1].idxmax()\n",
    "    \n",
    "    if pd.notna(combined_df.loc[irow].idxmax())==True:\n",
    "        \n",
    "        #largest value index\n",
    "        frames_list.append(int(idxmax))\n",
    "        \n",
    "        #indicators\n",
    "        \n",
    "        #crossover\n",
    "        if combined_df.loc[irow].idxmax() != combined_df.loc[irow-1].idxmax():\n",
    "            crossover_list.append(1)\n",
    "        else:\n",
    "            crossover_list.append(0)\n",
    "            \n",
    "            \n",
    "        # multiple above threshold .035\n",
    "        if nlargest[1]> .035:\n",
    "            high_multiplethreshold_list.append(1)\n",
    "        else:\n",
    "            high_multiplethreshold_list.append(0)\n",
    "\n",
    "        #all below threshold .035\n",
    "        if nlargest[0]< .035:\n",
    "            low_multiplethreshold_list.append(1)\n",
    "        else:\n",
    "            low_multiplethreshold_list.append(0)\n",
    "        \n",
    "        #similar loudness\n",
    "        if nlargest[0]-nlargest[1] <.007:\n",
    "            similarloudness_list.append(1)\n",
    "        else:\n",
    "            similarloudness_list.append(0)\n",
    "            \n",
    "#=======audio threshold  ===================================================================  \n",
    "        for ix in range(len(values)):\n",
    "            if values[ix]>.015 :\n",
    "                eval(list_str_audio_thresholds[ix]).append(1)\n",
    "\n",
    "            else:\n",
    "                eval(list_str_audio_thresholds[ix]).append(0)\n",
    "    else:\n",
    "        frames_list.append(0)\n",
    "        crossover_list.append(0)\n",
    "        high_multiplethreshold_list.append(0)\n",
    "        similarloudness_list.append(0)\n",
    "        low_multiplethreshold_list.append(0)\n",
    "        \n",
    "        for ix in range(len(values)):\n",
    "            if values[ix]>.007 :\n",
    "                eval(list_str_audio_thresholds[ix]).append(1)\n",
    "\n",
    "            else:\n",
    "                eval(list_str_audio_thresholds[ix]).append(0)\n",
    "#if there is another crossover within  6 secs after crossover, maintain center cam \n",
    "\n",
    " \n"
   ]
  },
  {
   "cell_type": "code",
   "execution_count": 21,
   "id": "a3031fb5",
   "metadata": {},
   "outputs": [
    {
     "data": {
      "text/plain": [
       "1.0"
      ]
     },
     "execution_count": 21,
     "metadata": {},
     "output_type": "execute_result"
    }
   ],
   "source": [
    "len(eval(list_str_audio_thresholds[0]))/len(high_multiplethreshold_list)"
   ]
  },
  {
   "cell_type": "code",
   "execution_count": 22,
   "id": "f4cba734",
   "metadata": {},
   "outputs": [],
   "source": [
    "test=pd.DataFrame({\"idxmax\":frames_list,\"crossover\":crossover_list,\"high_mult_thresh\":high_multiplethreshold_list,\"low_mult_thresh\":low_multiplethreshold_list,\"nearnesssound\":similarloudness_list})"
   ]
  },
  {
   "cell_type": "code",
   "execution_count": 23,
   "id": "3151b251",
   "metadata": {},
   "outputs": [],
   "source": [
    "#add collumn for each element in a list and use its corresponding list variable\n",
    "for i in range(len(list_str_audio_thresholds)):\n",
    "    test[list_str_audio_thresholds[i]]=eval(list_str_audio_thresholds[i])"
   ]
  },
  {
   "cell_type": "code",
   "execution_count": 24,
   "id": "1612ed5b",
   "metadata": {},
   "outputs": [
    {
     "data": {
      "text/html": [
       "<div>\n",
       "<style scoped>\n",
       "    .dataframe tbody tr th:only-of-type {\n",
       "        vertical-align: middle;\n",
       "    }\n",
       "\n",
       "    .dataframe tbody tr th {\n",
       "        vertical-align: top;\n",
       "    }\n",
       "\n",
       "    .dataframe thead th {\n",
       "        text-align: right;\n",
       "    }\n",
       "</style>\n",
       "<table border=\"1\" class=\"dataframe\">\n",
       "  <thead>\n",
       "    <tr style=\"text-align: right;\">\n",
       "      <th></th>\n",
       "      <th>idxmax</th>\n",
       "      <th>crossover</th>\n",
       "      <th>high_mult_thresh</th>\n",
       "      <th>low_mult_thresh</th>\n",
       "      <th>nearnesssound</th>\n",
       "      <th>A0</th>\n",
       "      <th>A1</th>\n",
       "    </tr>\n",
       "  </thead>\n",
       "  <tbody>\n",
       "    <tr>\n",
       "      <th>0</th>\n",
       "      <td>0</td>\n",
       "      <td>0</td>\n",
       "      <td>0</td>\n",
       "      <td>0</td>\n",
       "      <td>0</td>\n",
       "      <td>0</td>\n",
       "      <td>0</td>\n",
       "    </tr>\n",
       "    <tr>\n",
       "      <th>1</th>\n",
       "      <td>0</td>\n",
       "      <td>0</td>\n",
       "      <td>0</td>\n",
       "      <td>0</td>\n",
       "      <td>0</td>\n",
       "      <td>0</td>\n",
       "      <td>0</td>\n",
       "    </tr>\n",
       "    <tr>\n",
       "      <th>2</th>\n",
       "      <td>0</td>\n",
       "      <td>0</td>\n",
       "      <td>0</td>\n",
       "      <td>0</td>\n",
       "      <td>0</td>\n",
       "      <td>0</td>\n",
       "      <td>0</td>\n",
       "    </tr>\n",
       "    <tr>\n",
       "      <th>3</th>\n",
       "      <td>0</td>\n",
       "      <td>0</td>\n",
       "      <td>0</td>\n",
       "      <td>0</td>\n",
       "      <td>0</td>\n",
       "      <td>0</td>\n",
       "      <td>0</td>\n",
       "    </tr>\n",
       "    <tr>\n",
       "      <th>4</th>\n",
       "      <td>0</td>\n",
       "      <td>0</td>\n",
       "      <td>0</td>\n",
       "      <td>0</td>\n",
       "      <td>0</td>\n",
       "      <td>0</td>\n",
       "      <td>0</td>\n",
       "    </tr>\n",
       "    <tr>\n",
       "      <th>...</th>\n",
       "      <td>...</td>\n",
       "      <td>...</td>\n",
       "      <td>...</td>\n",
       "      <td>...</td>\n",
       "      <td>...</td>\n",
       "      <td>...</td>\n",
       "      <td>...</td>\n",
       "    </tr>\n",
       "    <tr>\n",
       "      <th>551995</th>\n",
       "      <td>0</td>\n",
       "      <td>0</td>\n",
       "      <td>0</td>\n",
       "      <td>0</td>\n",
       "      <td>0</td>\n",
       "      <td>0</td>\n",
       "      <td>0</td>\n",
       "    </tr>\n",
       "    <tr>\n",
       "      <th>551996</th>\n",
       "      <td>0</td>\n",
       "      <td>0</td>\n",
       "      <td>0</td>\n",
       "      <td>0</td>\n",
       "      <td>0</td>\n",
       "      <td>0</td>\n",
       "      <td>0</td>\n",
       "    </tr>\n",
       "    <tr>\n",
       "      <th>551997</th>\n",
       "      <td>0</td>\n",
       "      <td>0</td>\n",
       "      <td>0</td>\n",
       "      <td>0</td>\n",
       "      <td>0</td>\n",
       "      <td>0</td>\n",
       "      <td>0</td>\n",
       "    </tr>\n",
       "    <tr>\n",
       "      <th>551998</th>\n",
       "      <td>0</td>\n",
       "      <td>0</td>\n",
       "      <td>0</td>\n",
       "      <td>0</td>\n",
       "      <td>0</td>\n",
       "      <td>0</td>\n",
       "      <td>0</td>\n",
       "    </tr>\n",
       "    <tr>\n",
       "      <th>551999</th>\n",
       "      <td>0</td>\n",
       "      <td>0</td>\n",
       "      <td>0</td>\n",
       "      <td>0</td>\n",
       "      <td>0</td>\n",
       "      <td>0</td>\n",
       "      <td>0</td>\n",
       "    </tr>\n",
       "  </tbody>\n",
       "</table>\n",
       "<p>552000 rows × 7 columns</p>\n",
       "</div>"
      ],
      "text/plain": [
       "        idxmax  crossover  high_mult_thresh  low_mult_thresh  nearnesssound  \\\n",
       "0            0          0                 0                0              0   \n",
       "1            0          0                 0                0              0   \n",
       "2            0          0                 0                0              0   \n",
       "3            0          0                 0                0              0   \n",
       "4            0          0                 0                0              0   \n",
       "...        ...        ...               ...              ...            ...   \n",
       "551995       0          0                 0                0              0   \n",
       "551996       0          0                 0                0              0   \n",
       "551997       0          0                 0                0              0   \n",
       "551998       0          0                 0                0              0   \n",
       "551999       0          0                 0                0              0   \n",
       "\n",
       "        A0  A1  \n",
       "0        0   0  \n",
       "1        0   0  \n",
       "2        0   0  \n",
       "3        0   0  \n",
       "4        0   0  \n",
       "...     ..  ..  \n",
       "551995   0   0  \n",
       "551996   0   0  \n",
       "551997   0   0  \n",
       "551998   0   0  \n",
       "551999   0   0  \n",
       "\n",
       "[552000 rows x 7 columns]"
      ]
     },
     "execution_count": 24,
     "metadata": {},
     "output_type": "execute_result"
    }
   ],
   "source": [
    "test"
   ]
  },
  {
   "cell_type": "code",
   "execution_count": 25,
   "id": "9e8fca59",
   "metadata": {},
   "outputs": [],
   "source": [
    "test['cam_view']= test['idxmax'].apply(lambda row: AUDIO_VIDEO_TUPLE_LIST[row-1][1] if row!=0 else 0)"
   ]
  },
  {
   "cell_type": "code",
   "execution_count": 26,
   "id": "abff4b61",
   "metadata": {},
   "outputs": [],
   "source": [
    "test.to_pickle(\"idxmax.pkl\")"
   ]
  },
  {
   "cell_type": "code",
   "execution_count": 27,
   "id": "bd4e5c5f",
   "metadata": {},
   "outputs": [
    {
     "data": {
      "text/html": [
       "\n",
       "        <iframe\n",
       "            width=\"100%\"\n",
       "            height=\"475\"\n",
       "            src=\"http://jeffwa-System-Product-Name:40000/dtale/iframe/1\"\n",
       "            frameborder=\"0\"\n",
       "            allowfullscreen\n",
       "            \n",
       "        ></iframe>\n",
       "        "
      ],
      "text/plain": [
       "<IPython.lib.display.IFrame at 0x7fa1ff5eb490>"
      ]
     },
     "metadata": {},
     "output_type": "display_data"
    },
    {
     "data": {
      "text/plain": []
     },
     "execution_count": 27,
     "metadata": {},
     "output_type": "execute_result"
    }
   ],
   "source": [
    "dtale.show(test)"
   ]
  },
  {
   "cell_type": "markdown",
   "id": "a399e653",
   "metadata": {},
   "source": [
    "## Crossover list"
   ]
  },
  {
   "cell_type": "code",
   "execution_count": 28,
   "id": "0ac5d373",
   "metadata": {},
   "outputs": [
    {
     "data": {
      "text/plain": [
       "2500        2500\n",
       "5190        5190\n",
       "5605        5605\n",
       "9614        9614\n",
       "15664      15664\n",
       "27840      27840\n",
       "42476      42476\n",
       "53072      53072\n",
       "58760      58760\n",
       "66315      66315\n",
       "68470      68470\n",
       "73564      73564\n",
       "74072      74072\n",
       "93570      93570\n",
       "97040      97040\n",
       "111361    111361\n",
       "119096    119096\n",
       "120543    120543\n",
       "125109    125109\n",
       "132395    132395\n",
       "133271    133271\n",
       "144056    144056\n",
       "145753    145753\n",
       "161729    161729\n",
       "164917    164917\n",
       "166442    166442\n",
       "172214    172214\n",
       "177497    177497\n",
       "180223    180223\n",
       "195598    195598\n",
       "202492    202492\n",
       "218448    218448\n",
       "230734    230734\n",
       "267665    267665\n",
       "272480    272480\n",
       "277063    277063\n",
       "279765    279765\n",
       "302150    302150\n",
       "326089    326089\n",
       "336072    336072\n",
       "341419    341419\n",
       "355431    355431\n",
       "356663    356663\n",
       "363228    363228\n",
       "375951    375951\n",
       "418188    418188\n",
       "426541    426541\n",
       "442671    442671\n",
       "457639    457639\n",
       "459596    459596\n",
       "466172    466172\n",
       "477492    477492\n",
       "483218    483218\n",
       "494554    494554\n",
       "502812    502812\n",
       "519549    519549\n",
       "527213    527213\n",
       "536170    536170\n",
       "538636    538636\n",
       "dtype: int64"
      ]
     },
     "execution_count": 28,
     "metadata": {},
     "output_type": "execute_result"
    }
   ],
   "source": [
    "test['crossover'].index[test['crossover']==1].to_series()"
   ]
  },
  {
   "cell_type": "code",
   "execution_count": 29,
   "id": "a0b3fe99",
   "metadata": {},
   "outputs": [],
   "source": [
    "def dataframe_getintervals(series,desiredvalue):\n",
    "    #make sure series is the df['column']\n",
    "    t=series.index[series==desiredvalue].to_series()\n",
    "    interval_list=t.groupby(t.diff().ne(1).cumsum()).agg(['first','last']).apply(tuple,1).tolist()\n",
    "    \n",
    "    return interval_list"
   ]
  },
  {
   "cell_type": "code",
   "execution_count": 30,
   "id": "d791a2f7",
   "metadata": {},
   "outputs": [],
   "source": [
    "t=test['nearnesssound'].index[test['nearnesssound']==1].to_series()"
   ]
  },
  {
   "cell_type": "code",
   "execution_count": 31,
   "id": "305b11da",
   "metadata": {},
   "outputs": [],
   "source": [
    "intervallist=t.groupby(t.diff().ne(1).cumsum()).agg(['first','last']).apply(tuple,1).tolist()"
   ]
  },
  {
   "cell_type": "code",
   "execution_count": 32,
   "id": "bb492308",
   "metadata": {},
   "outputs": [],
   "source": [
    "intervallist_near=dataframe_getintervals(test['nearnesssound'],1)"
   ]
  },
  {
   "cell_type": "code",
   "execution_count": 33,
   "id": "732eea83",
   "metadata": {},
   "outputs": [
    {
     "ename": "KeyError",
     "evalue": "'mult_thresh'",
     "output_type": "error",
     "traceback": [
      "\u001b[0;31m---------------------------------------------------------------------------\u001b[0m",
      "\u001b[0;31mKeyError\u001b[0m                                  Traceback (most recent call last)",
      "File \u001b[0;32m~/anaconda3/envs/DL_new/lib/python3.10/site-packages/pandas/core/indexes/base.py:3621\u001b[0m, in \u001b[0;36mIndex.get_loc\u001b[0;34m(self, key, method, tolerance)\u001b[0m\n\u001b[1;32m   3620\u001b[0m \u001b[38;5;28;01mtry\u001b[39;00m:\n\u001b[0;32m-> 3621\u001b[0m     \u001b[38;5;28;01mreturn\u001b[39;00m \u001b[38;5;28;43mself\u001b[39;49m\u001b[38;5;241;43m.\u001b[39;49m\u001b[43m_engine\u001b[49m\u001b[38;5;241;43m.\u001b[39;49m\u001b[43mget_loc\u001b[49m\u001b[43m(\u001b[49m\u001b[43mcasted_key\u001b[49m\u001b[43m)\u001b[49m\n\u001b[1;32m   3622\u001b[0m \u001b[38;5;28;01mexcept\u001b[39;00m \u001b[38;5;167;01mKeyError\u001b[39;00m \u001b[38;5;28;01mas\u001b[39;00m err:\n",
      "File \u001b[0;32m~/anaconda3/envs/DL_new/lib/python3.10/site-packages/pandas/_libs/index.pyx:136\u001b[0m, in \u001b[0;36mpandas._libs.index.IndexEngine.get_loc\u001b[0;34m()\u001b[0m\n",
      "File \u001b[0;32m~/anaconda3/envs/DL_new/lib/python3.10/site-packages/pandas/_libs/index.pyx:163\u001b[0m, in \u001b[0;36mpandas._libs.index.IndexEngine.get_loc\u001b[0;34m()\u001b[0m\n",
      "File \u001b[0;32mpandas/_libs/hashtable_class_helper.pxi:5198\u001b[0m, in \u001b[0;36mpandas._libs.hashtable.PyObjectHashTable.get_item\u001b[0;34m()\u001b[0m\n",
      "File \u001b[0;32mpandas/_libs/hashtable_class_helper.pxi:5206\u001b[0m, in \u001b[0;36mpandas._libs.hashtable.PyObjectHashTable.get_item\u001b[0;34m()\u001b[0m\n",
      "\u001b[0;31mKeyError\u001b[0m: 'mult_thresh'",
      "\nThe above exception was the direct cause of the following exception:\n",
      "\u001b[0;31mKeyError\u001b[0m                                  Traceback (most recent call last)",
      "Input \u001b[0;32mIn [33]\u001b[0m, in \u001b[0;36m<cell line: 1>\u001b[0;34m()\u001b[0m\n\u001b[0;32m----> 1\u001b[0m intervallist_mult\u001b[38;5;241m=\u001b[39mdataframe_getintervals(\u001b[43mtest\u001b[49m\u001b[43m[\u001b[49m\u001b[38;5;124;43m'\u001b[39;49m\u001b[38;5;124;43mmult_thresh\u001b[39;49m\u001b[38;5;124;43m'\u001b[39;49m\u001b[43m]\u001b[49m,\u001b[38;5;241m1\u001b[39m)\n",
      "File \u001b[0;32m~/anaconda3/envs/DL_new/lib/python3.10/site-packages/pandas/core/frame.py:3505\u001b[0m, in \u001b[0;36mDataFrame.__getitem__\u001b[0;34m(self, key)\u001b[0m\n\u001b[1;32m   3503\u001b[0m \u001b[38;5;28;01mif\u001b[39;00m \u001b[38;5;28mself\u001b[39m\u001b[38;5;241m.\u001b[39mcolumns\u001b[38;5;241m.\u001b[39mnlevels \u001b[38;5;241m>\u001b[39m \u001b[38;5;241m1\u001b[39m:\n\u001b[1;32m   3504\u001b[0m     \u001b[38;5;28;01mreturn\u001b[39;00m \u001b[38;5;28mself\u001b[39m\u001b[38;5;241m.\u001b[39m_getitem_multilevel(key)\n\u001b[0;32m-> 3505\u001b[0m indexer \u001b[38;5;241m=\u001b[39m \u001b[38;5;28;43mself\u001b[39;49m\u001b[38;5;241;43m.\u001b[39;49m\u001b[43mcolumns\u001b[49m\u001b[38;5;241;43m.\u001b[39;49m\u001b[43mget_loc\u001b[49m\u001b[43m(\u001b[49m\u001b[43mkey\u001b[49m\u001b[43m)\u001b[49m\n\u001b[1;32m   3506\u001b[0m \u001b[38;5;28;01mif\u001b[39;00m is_integer(indexer):\n\u001b[1;32m   3507\u001b[0m     indexer \u001b[38;5;241m=\u001b[39m [indexer]\n",
      "File \u001b[0;32m~/anaconda3/envs/DL_new/lib/python3.10/site-packages/pandas/core/indexes/base.py:3623\u001b[0m, in \u001b[0;36mIndex.get_loc\u001b[0;34m(self, key, method, tolerance)\u001b[0m\n\u001b[1;32m   3621\u001b[0m     \u001b[38;5;28;01mreturn\u001b[39;00m \u001b[38;5;28mself\u001b[39m\u001b[38;5;241m.\u001b[39m_engine\u001b[38;5;241m.\u001b[39mget_loc(casted_key)\n\u001b[1;32m   3622\u001b[0m \u001b[38;5;28;01mexcept\u001b[39;00m \u001b[38;5;167;01mKeyError\u001b[39;00m \u001b[38;5;28;01mas\u001b[39;00m err:\n\u001b[0;32m-> 3623\u001b[0m     \u001b[38;5;28;01mraise\u001b[39;00m \u001b[38;5;167;01mKeyError\u001b[39;00m(key) \u001b[38;5;28;01mfrom\u001b[39;00m \u001b[38;5;21;01merr\u001b[39;00m\n\u001b[1;32m   3624\u001b[0m \u001b[38;5;28;01mexcept\u001b[39;00m \u001b[38;5;167;01mTypeError\u001b[39;00m:\n\u001b[1;32m   3625\u001b[0m     \u001b[38;5;66;03m# If we have a listlike key, _check_indexing_error will raise\u001b[39;00m\n\u001b[1;32m   3626\u001b[0m     \u001b[38;5;66;03m#  InvalidIndexError. Otherwise we fall through and re-raise\u001b[39;00m\n\u001b[1;32m   3627\u001b[0m     \u001b[38;5;66;03m#  the TypeError.\u001b[39;00m\n\u001b[1;32m   3628\u001b[0m     \u001b[38;5;28mself\u001b[39m\u001b[38;5;241m.\u001b[39m_check_indexing_error(key)\n",
      "\u001b[0;31mKeyError\u001b[0m: 'mult_thresh'"
     ]
    }
   ],
   "source": [
    "intervallist_mult=dataframe_getintervals(test['mult_thresh'],1)"
   ]
  },
  {
   "cell_type": "code",
   "execution_count": null,
   "id": "4ce8a55b",
   "metadata": {},
   "outputs": [],
   "source": [
    "too_short=0\n",
    "too_near=0\n",
    "for i in range(len(intervallist_mult)):\n",
    "    value=intervallist[i][1]+rate*3\n",
    "    \n",
    "    if intervallist[i][0]+2*rate > intervallist[i][1]:\n",
    "        too_short=too_short+1\n",
    "    if i==len(intervallist)-1:\n",
    "        pass\n",
    "    \n",
    "    else: \n",
    "        if value > intervallist[i+1][0]:\n",
    "            too_near=too_near+1"
   ]
  },
  {
   "cell_type": "code",
   "execution_count": null,
   "id": "1403e1ec",
   "metadata": {},
   "outputs": [],
   "source": [
    "too_near"
   ]
  },
  {
   "cell_type": "code",
   "execution_count": null,
   "id": "84001374",
   "metadata": {},
   "outputs": [],
   "source": [
    "too_short"
   ]
  },
  {
   "cell_type": "code",
   "execution_count": null,
   "id": "4f9d8317",
   "metadata": {},
   "outputs": [],
   "source": [
    "i"
   ]
  },
  {
   "cell_type": "code",
   "execution_count": null,
   "id": "a2885fe2",
   "metadata": {},
   "outputs": [],
   "source": [
    "intervallist[0][0]+rate < intervallist[0][1]"
   ]
  },
  {
   "cell_type": "code",
   "execution_count": null,
   "id": "ee5499b2",
   "metadata": {},
   "outputs": [],
   "source": [
    "intervallist[0][1]"
   ]
  },
  {
   "cell_type": "markdown",
   "id": "58626ee2",
   "metadata": {},
   "source": [
    "## Testing pandas intervalindex"
   ]
  },
  {
   "cell_type": "markdown",
   "id": "cce6d6c5",
   "metadata": {},
   "source": [
    "## Setup Logic 1: Safe, crossover, threshold and nearness"
   ]
  },
  {
   "cell_type": "code",
   "execution_count": null,
   "id": "80c45434",
   "metadata": {},
   "outputs": [],
   "source": [
    "#Priority from least to greatest \n",
    "#highest priority set last to override\n",
    "\n",
    "\n",
    "\n",
    "#1 current loudest: set the current loudest as the camera, sets the skeletal outline of the default timeline\n",
    "#the only loop \n",
    "outline=test['idxmax']\n",
    "\n",
    "\n",
    "#2 nearness with no crossover nearby next one second (not implemented for now)\n",
    "#if nearness, check if near crossover within 3 seconds, if no crossover, set camera to default for interval+1 second ahead. \n",
    "#outline2=outline\n",
    "\n",
    "\n",
    "#3 multiple with threshold\n",
    "#Where there are multiple mics above threshold, set camera to default for interval and 1 second ahead. \n",
    "\n",
    "\n",
    "\n",
    "\n",
    "#4 crossover gives 3 seconds\n",
    "#see all crossovers, add three seconds of default cam\n",
    "\n",
    "\n",
    "\n",
    "#if crossovers occur, play center cam for three seconds and then maintain loudest speaker\n",
    "\n",
    "\n",
    "    #if there is a second speaker near the same loudness BUT A CROSSOVER DOES NOT OCCUR IN THE NEXT 3 Secs\n",
    "    #change to center cam for 3 seconds \n",
    "\n"
   ]
  },
  {
   "cell_type": "markdown",
   "id": "0c37e123",
   "metadata": {},
   "source": [
    "## Seeing Logic differences speaker and listener transition"
   ]
  },
  {
   "cell_type": "markdown",
   "id": "6d308c83",
   "metadata": {},
   "source": [
    "## Creating the XML file"
   ]
  },
  {
   "cell_type": "code",
   "execution_count": null,
   "id": "d5aa1ac8",
   "metadata": {},
   "outputs": [],
   "source": []
  },
  {
   "cell_type": "code",
   "execution_count": null,
   "id": "ad413605",
   "metadata": {},
   "outputs": [],
   "source": [
    "nlargest"
   ]
  },
  {
   "cell_type": "code",
   "execution_count": null,
   "id": "f1aed986",
   "metadata": {},
   "outputs": [],
   "source": []
  }
 ],
 "metadata": {
  "kernelspec": {
   "display_name": "Python 3 (ipykernel)",
   "language": "python",
   "name": "python3"
  },
  "language_info": {
   "codemirror_mode": {
    "name": "ipython",
    "version": 3
   },
   "file_extension": ".py",
   "mimetype": "text/x-python",
   "name": "python",
   "nbconvert_exporter": "python",
   "pygments_lexer": "ipython3",
   "version": "3.10.4"
  }
 },
 "nbformat": 4,
 "nbformat_minor": 5
}
