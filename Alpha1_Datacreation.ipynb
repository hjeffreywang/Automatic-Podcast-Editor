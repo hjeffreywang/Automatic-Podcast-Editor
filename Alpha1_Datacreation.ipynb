{
 "cells": [
  {
   "cell_type": "markdown",
   "id": "419a0c98",
   "metadata": {},
   "source": [
    "# Data creation with minimal exploration\n"
   ]
  },
  {
   "cell_type": "code",
   "execution_count": 1,
   "id": "a85b95ea",
   "metadata": {},
   "outputs": [],
   "source": [
    "#audio\n",
    "from __future__ import print_function\n",
    "import numpy as np\n",
    "import matplotlib\n",
    "import matplotlib.pyplot as plt\n",
    "import ffmpeg\n",
    "import librosa\n",
    "import librosa.display"
   ]
  },
  {
   "cell_type": "code",
   "execution_count": 2,
   "id": "68910a33",
   "metadata": {},
   "outputs": [],
   "source": [
    "import pandas as pd \n",
    "import pyloudnorm as pyln"
   ]
  },
  {
   "cell_type": "code",
   "execution_count": 3,
   "id": "2ecbceef",
   "metadata": {},
   "outputs": [
    {
     "name": "stderr",
     "output_type": "stream",
     "text": [
      "WARNING: CPU random generator seem to be failing, disabling hardware random number generation\n",
      "WARNING: RDRND generated: 0xffffffff 0xffffffff 0xffffffff 0xffffffff\n"
     ]
    }
   ],
   "source": [
    "#video\n",
    "import moviepy\n",
    "from moviepy.editor import *"
   ]
  },
  {
   "cell_type": "code",
   "execution_count": 4,
   "id": "75a74e95",
   "metadata": {},
   "outputs": [],
   "source": [
    "#importing audio\n",
    "#x1 waveform \n",
    "#fs sampling rate"
   ]
  },
  {
   "cell_type": "code",
   "execution_count": 5,
   "id": "c9c132b1",
   "metadata": {},
   "outputs": [],
   "source": [
    "AUDIO_VIDEO_TUPLE_LIST=[(\"E2 - Chukwu.mp3\", 1), (\"E2 - Osi.mp3\", 1),(\"E2 - Crystal.mp3\",2),(\"E2 - Scott.mp3\",2)]\n",
    "VIDEO_FILEPATH_LIST= [\"Hang out 2 Middle.mp4\",\"Hang out 2 Left.mp4\",\"Hang out 2 Right.mp4\"]"
   ]
  },
  {
   "cell_type": "code",
   "execution_count": 6,
   "id": "121d1dc1",
   "metadata": {},
   "outputs": [
    {
     "data": {
      "text/plain": [
       "tuple"
      ]
     },
     "execution_count": 6,
     "metadata": {},
     "output_type": "execute_result"
    }
   ],
   "source": [
    "type(AUDIO_VIDEO_TUPLE_LIST[0])"
   ]
  },
  {
   "cell_type": "markdown",
   "id": "5a458949",
   "metadata": {},
   "source": [
    "## Creating Data for each Microphone\n"
   ]
  },
  {
   "cell_type": "code",
   "execution_count": 7,
   "id": "079a5c37",
   "metadata": {},
   "outputs": [],
   "source": [
    "#importing video and its audio\n",
    "def dataframecreation(file_dir_list,rate):\n",
    "    df_list=[]\n",
    "    instance=1\n",
    "    for file_dir in file_dir_list:\n",
    "        if type(file_dir)==tuple:\n",
    "            print(file_dir[0])\n",
    "            data1, rate1 = librosa.load(file_dir[0], sr=48000) \n",
    "            data= librosa.resample(data1, orig_sr=rate1, target_sr=rate, scale=True)\n",
    "\n",
    "            # peak normalize audio to -1 dB\n",
    "            peak_normalized_audio = pyln.normalize.peak(data, -1.0)\n",
    "\n",
    "            # measure the loudness first \n",
    "            meter = pyln.Meter(rate) # create BS.1770 meter\n",
    "            loudness = meter.integrated_loudness(data)\n",
    "\n",
    "            # loudness normalize audio to -12 dB LUFS\n",
    "            audio_data_df = pd.DataFrame(pyln.normalize.loudness(data, loudness, -20.0)).rename(columns={0:str(instance)})\n",
    "            df_list.append(audio_data_df)\n",
    "            instance=instance+1    \n",
    "            \n",
    "        else:\n",
    "            data1, rate1 = librosa.load(file_dir, sr=48000) \n",
    "            data= librosa.resample(data1, orig_sr=rate1, target_sr=rate, scale=True)\n",
    "\n",
    "            # peak normalize audio to -1 dB\n",
    "            peak_normalized_audio = pyln.normalize.peak(data, -1.0)\n",
    "\n",
    "            # measure the loudness first \n",
    "            meter = pyln.Meter(rate) # create BS.1770 meter\n",
    "            loudness = meter.integrated_loudness(data)\n",
    "\n",
    "            # loudness normalize audio to -12 dB LUFS\n",
    "            audio_data_df = pd.DataFrame(pyln.normalize.loudness(data, loudness, -20.0)).rename(columns={0:str(instance)})\n",
    "            df_list.append(audio_data_df)\n",
    "            instance=instance+1\n",
    "    return(df_list)"
   ]
  },
  {
   "cell_type": "code",
   "execution_count": 8,
   "id": "0dd8780f",
   "metadata": {},
   "outputs": [],
   "source": [
    "def doublerollingaverage1(df_list,rate):\n",
    "    dra_df_list=[]\n",
    "    for df in df_list:\n",
    "        indexer = pd.api.indexers.FixedForwardWindowIndexer(window_size=2*rate)\n",
    "        rollingaverage_df=df.abs().rolling(indexer).mean()\n",
    "        Drollingaverage_df=rollingaverage_df.abs().rolling(rate*5,center=True).mean()\n",
    "        dra_df_list.append(Drollingaverage_df)\n",
    "    return dra_df_list"
   ]
  },
  {
   "cell_type": "code",
   "execution_count": 9,
   "id": "33327f6d",
   "metadata": {},
   "outputs": [],
   "source": [
    "def doublerollingaverage(df_list,rate):\n",
    "    dra_df_list=[]\n",
    "    for df in df_list:\n",
    "        rollingaverage_df=df.abs().rolling(rate*5,center=True).mean()\n",
    "        Drollingaverage_df=rollingaverage_df.abs().rolling(rate*5,center=True).mean()\n",
    "        dra_df_list.append(Drollingaverage_df)\n",
    "    return dra_df_list"
   ]
  },
  {
   "cell_type": "code",
   "execution_count": 10,
   "id": "c1ac7b94",
   "metadata": {},
   "outputs": [],
   "source": [
    "rate=500 #samples per sec"
   ]
  },
  {
   "cell_type": "code",
   "execution_count": 11,
   "id": "cfe9c68f",
   "metadata": {},
   "outputs": [
    {
     "name": "stdout",
     "output_type": "stream",
     "text": [
      "E2 - Chukwu.mp3\n",
      "E2 - Osi.mp3\n",
      "E2 - Crystal.mp3\n",
      "E2 - Scott.mp3\n"
     ]
    }
   ],
   "source": [
    "df_list=dataframecreation(AUDIO_VIDEO_TUPLE_LIST,rate)\n"
   ]
  },
  {
   "cell_type": "code",
   "execution_count": 12,
   "id": "7c630110",
   "metadata": {},
   "outputs": [],
   "source": [
    "dra_df_list=doublerollingaverage(df_list,rate)"
   ]
  },
  {
   "cell_type": "code",
   "execution_count": 13,
   "id": "6ddafed3",
   "metadata": {},
   "outputs": [
    {
     "data": {
      "image/png": "[encoded data removed]",
      "text/plain": [
       "<Figure size 432x288 with 1 Axes>"
      ]
     },
     "metadata": {
      "needs_background": "light"
     },
     "output_type": "display_data"
    }
   ],
   "source": [
    "fig = plt.figure()\n",
    "for frame in dra_df_list:\n",
    "    plt.plot(frame[17*rate:21*rate])\n",
    "\n"
   ]
  },
  {
   "cell_type": "code",
   "execution_count": 14,
   "id": "58ef84b3",
   "metadata": {},
   "outputs": [
    {
     "data": {
      "text/plain": [
       "1    0.007164\n",
       "Name: 87800, dtype: float64"
      ]
     },
     "execution_count": 14,
     "metadata": {},
     "output_type": "execute_result"
    }
   ],
   "source": [
    "dra_df_list[0].loc[175.6*rate]"
   ]
  },
  {
   "cell_type": "code",
   "execution_count": 15,
   "id": "e3b39392",
   "metadata": {},
   "outputs": [
    {
     "data": {
      "text/plain": [
       "87500"
      ]
     },
     "execution_count": 15,
     "metadata": {},
     "output_type": "execute_result"
    }
   ],
   "source": [
    "175*rate"
   ]
  },
  {
   "cell_type": "markdown",
   "id": "8275e0a5",
   "metadata": {},
   "source": [
    "# Testing the logics, Creating speaking intervals"
   ]
  },
  {
   "cell_type": "code",
   "execution_count": 16,
   "id": "a7906707",
   "metadata": {},
   "outputs": [],
   "source": [
    "import dtale"
   ]
  },
  {
   "cell_type": "code",
   "execution_count": 17,
   "id": "5620addf",
   "metadata": {},
   "outputs": [],
   "source": [
    "#combine dfs first\n",
    "combined_df=pd.concat(dra_df_list,axis=1)\n",
    "#this why sync is important so that the rows are exactly aligned"
   ]
  },
  {
   "cell_type": "code",
   "execution_count": 18,
   "id": "1746e2f7",
   "metadata": {
    "scrolled": true
   },
   "outputs": [
    {
     "data": {
      "text/plain": [
       "range(0, 4)"
      ]
     },
     "execution_count": 18,
     "metadata": {},
     "output_type": "execute_result"
    }
   ],
   "source": [
    "range(len(combined_df.loc[10000].values))"
   ]
  },
  {
   "cell_type": "code",
   "execution_count": 19,
   "id": "7809aeba",
   "metadata": {},
   "outputs": [],
   "source": [
    "#create list of string to call for each audio file. Used to call the audio name\n",
    "list_str_audio_thresholds=[]\n",
    "\n",
    "#for each audio element, create a new list \"A{i}\" and put that into a list\n",
    "#each audio file is identified by its place in the tuple\n",
    "for irow in range(len(AUDIO_VIDEO_TUPLE_LIST)):\n",
    "    varname=\"A\"\n",
    "    exec(f\"{varname}{irow} = []\")\n",
    "    \n",
    "    \n",
    "    list_str_audio_thresholds.append(varname+str(irow))"
   ]
  },
  {
   "cell_type": "markdown",
   "id": "1f69f30c",
   "metadata": {},
   "source": [
    "# testing"
   ]
  },
  {
   "cell_type": "code",
   "execution_count": null,
   "id": "cd901cbd",
   "metadata": {},
   "outputs": [],
   "source": [
    "frames_list=[]\n",
    "largestindex_list=[]\n",
    "crossover_list=[]\n",
    "high_multiplethreshold_list=[]\n",
    "similarloudness_list=[]\n",
    "low_multiplethreshold_list=[]\n",
    "for irow in range(len(combined_df)):\n",
    "    #creating variables to call\n",
    "\n",
    "    #more efficient to call variable than constant function calling\n",
    "    nlargest=combined_df.loc[irow].nlargest(2)\n",
    "    idxmax=combined_df.loc[irow].idxmax()\n",
    "    values=combined_df.loc[irow].values\n",
    "    if irow !=0:\n",
    "        prev_idxmax=combined_df.loc[irow-1].idxmax()\n",
    "    \n",
    "    if pd.notna(combined_df.loc[irow].idxmax())==True:\n",
    "        \n",
    "        #largest value index\n",
    "        frames_list.append(int(idxmax))\n",
    "        \n",
    "        #indicators\n",
    "        \n",
    "        #crossover\n",
    "        if combined_df.loc[irow].idxmax() != combined_df.loc[irow-1].idxmax():\n",
    "            crossover_list.append(1)\n",
    "        else:\n",
    "            crossover_list.append(0)\n",
    "            \n",
    "            \n",
    "        # multiple above threshold .035\n",
    "        if nlargest[1]> .035:\n",
    "            high_multiplethreshold_list.append(1)\n",
    "        else:\n",
    "            high_multiplethreshold_list.append(0)\n",
    "\n",
    "        #all below threshold .035\n",
    "        if nlargest[0]< .035:\n",
    "            low_multiplethreshold_list.append(1)\n",
    "        else:\n",
    "            low_multiplethreshold_list.append(0)\n",
    "        \n",
    "        #similar loudness\n",
    "        if nlargest[0]-nlargest[1] <.007:\n",
    "            similarloudness_list.append(1)\n",
    "        else:\n",
    "            similarloudness_list.append(0)\n",
    "            \n",
    "#=======audio threshold  ===================================================================  \n",
    "        for ix in range(len(values)):\n",
    "            if values[ix]>.0063 :\n",
    "                eval(list_str_audio_thresholds[ix]).append(1)\n",
    "\n",
    "            else:\n",
    "                eval(list_str_audio_thresholds[ix]).append(0)\n",
    "    else:\n",
    "        frames_list.append(0)\n",
    "        crossover_list.append(0)\n",
    "        high_multiplethreshold_list.append(0)\n",
    "        similarloudness_list.append(0)\n",
    "        low_multiplethreshold_list.append(0)\n",
    "        \n",
    "        for ix in range(len(values)):\n",
    "            if values[ix]>.0085 :\n",
    "                eval(list_str_audio_thresholds[ix]).append(1)\n",
    "\n",
    "            else:\n",
    "                eval(list_str_audio_thresholds[ix]).append(0)\n",
    "#if there is another crossover within  6 secs after crossover, maintain center cam \n",
    "\n",
    " \n"
   ]
  },
  {
   "cell_type": "code",
   "execution_count": null,
   "id": "f4cba734",
   "metadata": {},
   "outputs": [],
   "source": [
    "test=pd.DataFrame({\"idxmax\":frames_list,\"crossover\":crossover_list,\"high_mult_thresh\":high_multiplethreshold_list,\"low_mult_thresh\":low_multiplethreshold_list,\"nearnesssound\":similarloudness_list})"
   ]
  },
  {
   "cell_type": "code",
   "execution_count": null,
   "id": "3151b251",
   "metadata": {},
   "outputs": [],
   "source": [
    "#add a column for each audio file in the list \n",
    "#use the loop to add the corresponding threshold data\n",
    "#eval uses string to call the threshold list\n",
    "for i in range(len(list_str_audio_thresholds)):\n",
    "    test[list_str_audio_thresholds[i]]=eval(list_str_audio_thresholds[i])"
   ]
  },
  {
   "cell_type": "code",
   "execution_count": null,
   "id": "9e8fca59",
   "metadata": {},
   "outputs": [],
   "source": [
    "#create an empty column\n",
    "test[\"Main_cam\"]=0\n",
    "\n",
    "#if crossover, change that row and all the rows three seconds after to 1\n",
    "for i in range(len(test['crossover'])):\n",
    "    if test['crossover'][i]==1:\n",
    "        test[\"Main_cam\"][i-rate:i+rate*5]=1\n"
   ]
  },
  {
   "cell_type": "code",
   "execution_count": null,
   "id": "ce25b6a1",
   "metadata": {
    "scrolled": true
   },
   "outputs": [],
   "source": [
    "combined_df.loc[rate*18]"
   ]
  },
  {
   "cell_type": "code",
   "execution_count": null,
   "id": "faad4c72",
   "metadata": {},
   "outputs": [],
   "source": [
    "combined_df.mean().mean()"
   ]
  },
  {
   "cell_type": "code",
   "execution_count": null,
   "id": "24f1ad60",
   "metadata": {},
   "outputs": [],
   "source": []
  },
  {
   "cell_type": "code",
   "execution_count": null,
   "id": "abff4b61",
   "metadata": {},
   "outputs": [],
   "source": [
    "test.to_pickle(\"idxmax.pkl\")"
   ]
  },
  {
   "cell_type": "code",
   "execution_count": null,
   "id": "d76f3c30",
   "metadata": {},
   "outputs": [],
   "source": []
  }
 ],
 "metadata": {
  "kernelspec": {
   "display_name": "Python 3 (ipykernel)",
   "language": "python",
   "name": "python3"
  },
  "language_info": {
   "codemirror_mode": {
    "name": "ipython",
    "version": 3
   },
   "file_extension": ".py",
   "mimetype": "text/x-python",
   "name": "python",
   "nbconvert_exporter": "python",
   "pygments_lexer": "ipython3",
   "version": "3.10.4"
  }
 },
 "nbformat": 4,
 "nbformat_minor": 5
}
